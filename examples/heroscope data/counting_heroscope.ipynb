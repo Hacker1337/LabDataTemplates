{
 "cells": [
  {
   "cell_type": "code",
   "execution_count": 29,
   "metadata": {
    "collapsed": true
   },
   "outputs": [],
   "source": [
    "import numpy as np\n",
    "import matplotlib.pyplot as plt\n",
    "import pandas as pd\n",
    "imNum = 20\n",
    "#switching latex fonts\n",
    "# plt.rcParams.update({\n",
    "#     \"text.usetex\": True,\n",
    "#     \"font.family\": \"sans-serif\",\n",
    "#     \"font.sans-serif\": [\"Helvetica\"]})\n",
    "# plt.rcParams.update({\n",
    "#     \"text.usetex\": False,\n",
    "#     \"font.family\": 'fantasy',\n",
    "#     \"font.fantasy\": ['Arial', 'Times New Roman', 'Tahoma']})\n",
    "plt.rcParams.update({\n",
    "    \"figure.figsize\": (16, 10)\n",
    "})\n",
    "\n",
    "# необходимые функции\n",
    "\n",
    "def err_pres_formatter(value, error):\n",
    "    \"\"\"Rounds value and it's error according to scientific conventions\"\"\"\n",
    "    first_digit = (np.array(error/10**np.floor(np.log10(error)), dtype=\"int\"))\n",
    "    first_digit_position = np.array(np.floor(np.log10(error)), dtype=\"int\")\n",
    "    ndigits = 1\n",
    "    if first_digit == 1:\n",
    "        ndigits += 1\n",
    "    power = np.log10(abs(value))\n",
    "    if abs(power//3) >= 1:\n",
    "        power = 3*int(power//3)\n",
    "        value /= 10**power\n",
    "        error /= 10**power\n",
    "        digit_number = -first_digit_position + ndigits+power-1\n",
    "        if digit_number <= 0:\n",
    "            return f\"({round(int(value), digit_number)} \\u00B1 {round(int(error), digit_number)})$\\cdot 10^{{{power}}}$\"\n",
    "        return f\"({round(value, digit_number)} \\u00B1 {round(error, digit_number)})$\\cdot 10^{{{power}}}$\"\n",
    "    digit_number = -first_digit_position + ndigits-1\n",
    "    if digit_number <= 0:\n",
    "        return f\"{round(int(value), digit_number)} \\u00B1 {round(int(error), digit_number)}\"\n",
    "    return f\"{round(value, digit_number)} \\u00B1 {round(error, digit_number)}\"\n",
    "\n",
    "\n",
    "def lower_upper_limits(domain, fun, popt, pcov, nsigma=1):\n",
    "    '''Вычисляет минимальные и максимальные значения функции \n",
    "    при заданных парамерах и стандартных отклонениях\n",
    "    в пределах nsigma*стандартное отклонение\n",
    "    Возвращает:\n",
    "    minA :(np.array) - массив минимальных значений\n",
    "    maxA :(np.array) - массив максимальных значений'''\n",
    "    err = np.sqrt(np.diag(pcov))\n",
    "    corr = pcov /np.expand_dims(err, 1) / np.expand_dims(err, 0)\n",
    "    deviations = np.eye(popt.size)*np.expand_dims(err, 1)  \n",
    "    df = np.expand_dims(fun(domain, *popt), 1) - fun(np.expand_dims(X, 1), *(np.expand_dims(popt, 1)+np.eye(popt.size)*np.expand_dims(err, 1)))\n",
    "    dfmatrixes = np.expand_dims(df, 1)*np.expand_dims(df, 2) * np.expand_dims(corr, 0)\n",
    "    sigm_f = np.sqrt(np.sum(dfmatrixes, axis=(1, 2)))\n",
    "    return (fun(domain, *popt)-nsigma*sigm_f, fun(domain, *popt)+nsigma*sigm_f)"
   ]
  },
  {
   "cell_type": "code",
   "execution_count": 31,
   "metadata": {},
   "outputs": [],
   "source": [
    "# plt.rcParams.update({\n",
    "#     \"text.usetex\": True,\n",
    "#     \"font.family\": \"sans-serif\",\n",
    "#     \"font.sans-serif\": [\"Helvetica\"]})"
   ]
  },
  {
   "cell_type": "code",
   "execution_count": 2,
   "metadata": {
    "collapsed": false,
    "pycharm": {
     "name": "#%%\n"
    }
   },
   "outputs": [],
   "source": [
    "#ВВод данных\n",
    "x = np.array([\n",
    "256.0,361.0,484.0,625.0,784.0,961.0,1156.0,1521.0,1764.0,2025.0,2304.0,169.0\n",
    "])\n",
    "y = np.array([\n",
    "40.474485,44.28800000000001,48.672000000000004,53.59786801199999,59.56816728,66.195521388,73.25249903999999,86.71392784400001,95.503225823,105.05186009,115.60976497600001,36.62553387599999\n",
    "])\n",
    "xerr = np.array([\n",
    "32.0,38.0,44.0,50.0,56.0,62.0,68.0,78.0,84.0,90.0,96.0,26.0\n",
    "])\n",
    "yerr = np.array([\n",
    "3.2584050000000007,3.113600000000001,3.0576000000000003,3.05875596,3.1154905600000005,3.2047047600000003,3.3160478399999995,3.5470028900000004,3.70314741,3.8748144900000008,4.058298240000001,3.569614409999999\n",
    "])\n"
   ]
  },
  {
   "cell_type": "code",
   "execution_count": 8,
   "metadata": {},
   "outputs": [
    {
     "data": {
      "text/html": [
       "<div>\n",
       "<style scoped>\n",
       "    .dataframe tbody tr th:only-of-type {\n",
       "        vertical-align: middle;\n",
       "    }\n",
       "\n",
       "    .dataframe tbody tr th {\n",
       "        vertical-align: top;\n",
       "    }\n",
       "\n",
       "    .dataframe thead th {\n",
       "        text-align: right;\n",
       "    }\n",
       "</style>\n",
       "<table border=\"1\" class=\"dataframe\">\n",
       "  <thead>\n",
       "    <tr style=\"text-align: right;\">\n",
       "      <th></th>\n",
       "      <th>x</th>\n",
       "      <th>xerr</th>\n",
       "      <th>y</th>\n",
       "      <th>yerr</th>\n",
       "    </tr>\n",
       "  </thead>\n",
       "  <tbody>\n",
       "    <tr>\n",
       "      <th>0</th>\n",
       "      <td>0.067032</td>\n",
       "      <td>0.000676</td>\n",
       "      <td>0.034397</td>\n",
       "      <td>0.000941</td>\n",
       "    </tr>\n",
       "    <tr>\n",
       "      <th>1</th>\n",
       "      <td>0.089376</td>\n",
       "      <td>0.000862</td>\n",
       "      <td>0.046453</td>\n",
       "      <td>0.001030</td>\n",
       "    </tr>\n",
       "    <tr>\n",
       "      <th>2</th>\n",
       "      <td>0.109368</td>\n",
       "      <td>0.001029</td>\n",
       "      <td>0.056553</td>\n",
       "      <td>0.001527</td>\n",
       "    </tr>\n",
       "    <tr>\n",
       "      <th>3</th>\n",
       "      <td>0.166992</td>\n",
       "      <td>0.001509</td>\n",
       "      <td>0.086187</td>\n",
       "      <td>0.003547</td>\n",
       "    </tr>\n",
       "    <tr>\n",
       "      <th>4</th>\n",
       "      <td>0.258720</td>\n",
       "      <td>0.002274</td>\n",
       "      <td>0.134033</td>\n",
       "      <td>0.004289</td>\n",
       "    </tr>\n",
       "  </tbody>\n",
       "</table>\n",
       "</div>"
      ],
      "text/plain": [
       "          x      xerr         y      yerr\n",
       "0  0.067032  0.000676  0.034397  0.000941\n",
       "1  0.089376  0.000862  0.046453  0.001030\n",
       "2  0.109368  0.001029  0.056553  0.001527\n",
       "3  0.166992  0.001509  0.086187  0.003547\n",
       "4  0.258720  0.002274  0.134033  0.004289"
      ]
     },
     "execution_count": 8,
     "metadata": {},
     "output_type": "execute_result"
    }
   ],
   "source": [
    "df = pd.read_excel(\"Heroscope.xls\", \"Лист2\", names=['x', 'xerr', 'y', 'yerr'])\n",
    "df.head()"
   ]
  },
  {
   "cell_type": "code",
   "execution_count": 16,
   "metadata": {},
   "outputs": [],
   "source": [
    "x = df['x']\n",
    "y = df['y']\n",
    "xerr = df['xerr']\n",
    "yerr = df['yerr']"
   ]
  },
  {
   "cell_type": "code",
   "execution_count": 17,
   "metadata": {},
   "outputs": [
    {
     "data": {
      "text/plain": [
       "0    0.000676\n",
       "1    0.000862\n",
       "2    0.001029\n",
       "3    0.001509\n",
       "4    0.002274\n",
       "5    0.003469\n",
       "Name: xerr, dtype: float64"
      ]
     },
     "execution_count": 17,
     "metadata": {},
     "output_type": "execute_result"
    }
   ],
   "source": [
    "xerr\n"
   ]
  },
  {
   "cell_type": "code",
   "execution_count": null,
   "metadata": {},
   "outputs": [],
   "source": [
    "\n"
   ]
  },
  {
   "cell_type": "code",
   "execution_count": 45,
   "metadata": {
    "collapsed": false,
    "pycharm": {
     "name": "#%%\n"
    }
   },
   "outputs": [
    {
     "name": "stdout",
     "output_type": "stream",
     "text": [
      "0.5186353732089661 +- 0.014387553271963291\n",
      "-0.00017003125886471088 +- 0.0014511595057770123\n"
     ]
    },
    {
     "data": {
      "image/png": "[encoded data removed]",
      "text/plain": [
       "<Figure size 576x432 with 1 Axes>"
      ]
     },
     "metadata": {
      "needs_background": "light"
     },
     "output_type": "display_data"
    }
   ],
   "source": [
    "#xi square approximation with Y-errors\n",
    "%matplotlib inline\n",
    "# пользовательские параметры. Переменные x, y, xerr, yerr дожны содержать данные\n",
    "''' также необходимо изменить\n",
    "название осей с размерностями, \n",
    "нагвание графика, \n",
    "название функции ,\n",
    "набор параметров с размерностями через запятую '''\n",
    "visApproxError = True   # рисовать ли область ошибки аппроксимации\n",
    "par_names = r'''\n",
    "k, $\\frac{1}{H\\text{м}c}$\n",
    "b, $\\frac{1}{c}$\n",
    "'''\n",
    "# function to approximate\n",
    "fun_name = \"$f(x) = kx + b$\"\n",
    "def f(x, k, b):\n",
    "    return b + k * x\n",
    "# конец пользовательских параметров\n",
    "\n",
    "from scipy.optimize import curve_fit\n",
    "popt, pcov = curve_fit(f, x, y, sigma=yerr, absolute_sigma=True)\n",
    "err = np.sqrt(np.diag(pcov))\n",
    "for v, er in zip(popt, err):\n",
    "    print(v,'+-',er)\n",
    "\n",
    "approx_label = f\"аппроксимация функцией {fun_name}\"\n",
    "par_names = [x.split(', ') for x in par_names.strip().split(\"\\n\")]\n",
    "for i in range(len(par_names)):\n",
    "    name, units = par_names[i]\n",
    "    tup = err_pres_formatter(popt[i], err[i])\n",
    "    approx_label += f\"\\n{name} = {err_pres_formatter(popt[i], err[i])} {units}\"\n",
    "    \n",
    "\n",
    "plt.figure(figsize=(8, 6))\n",
    "plt.errorbar(x, y, fmt=\"o\", xerr=xerr, yerr=yerr, label=\"экспериментальные данные\", capsize=4, ms=6)\n",
    "teorPoints = 50     \n",
    "intent = 0.05   # отступ по бокам от обласи экспериментальных данных\n",
    "a, b = x.min(), x.max()\n",
    "X = np.linspace(a-(b-a)*intent, b+(b-a)*intent, num=teorPoints)\n",
    "plt.plot(X, f(X, *popt), 'r', label=approx_label)\n",
    "if visApproxError:\n",
    "    nsigma = 2\n",
    "    minA, maxA = lower_upper_limits(X, f, popt, pcov, nsigma=nsigma)\n",
    "    plt.fill_between(X, minA, maxA, alpha=0.4, label=f\"облсть {nsigma} $\\sigma$ ошибки\")\n",
    "\n",
    "plt.grid(True)\n",
    "plt.xlabel(r\"$M$, Hм\")\n",
    "plt.ylabel(r\"$\\Omega$, рад/с\")\n",
    "plt.title(r\"$\\Omega(M)$\")\n",
    "plt.legend()\n",
    "\n",
    "plt.savefig(f\"result{imNum}.png\", dpi=300)\n",
    "imNum+=1"
   ]
  },
  {
   "cell_type": "code",
   "execution_count": 41,
   "metadata": {},
   "outputs": [],
   "source": [
    "from matplotlib import rc\n",
    "rc('font',**{'family':'serif'})\n",
    "rc('text', usetex=True)\n",
    "# rc('text.latex',unicode=True)\n",
    "rc('text.latex',preamble=r'')\n",
    "rc('text.latex',preamble=r'''\\usepackage[utf8]{inputenc}\n",
    "\\usepackage[russian]{babel}\n",
    "\\usepackage{amsmath}\n",
    "\\usepackage{mathtext}''')\n",
    "# rc('text.latex',preamble=r'\\usepackage[warn]{mathtext}')\n"
   ]
  },
  {
   "cell_type": "code",
   "execution_count": 46,
   "metadata": {},
   "outputs": [],
   "source": [
    "w = [float(x.split()[0]) for x in '''0.00088\t0.00014\n",
    "0.00103\t0.00012\n",
    "0.00100\t0.00014\n",
    "0.00109\t0.00021\n",
    "0.00115\t0.00017\n",
    "0.00098\t0.00017'''.split('\\n')]\n",
    "werr = [float(x.split()[1]) for x in '''0.00088\t0.00014\n",
    "0.00103\t0.00012\n",
    "0.00100\t0.00014\n",
    "0.00109\t0.00021\n",
    "0.00115\t0.00017\n",
    "0.00098\t0.00017'''.split('\\n')]\n"
   ]
  },
  {
   "cell_type": "code",
   "execution_count": 54,
   "metadata": {},
   "outputs": [
    {
     "data": {
      "image/png": "[encoded data removed]",
      "text/plain": [
       "<Figure size 576x432 with 1 Axes>"
      ]
     },
     "metadata": {
      "needs_background": "light"
     },
     "output_type": "display_data"
    }
   ],
   "source": [
    "plt.figure(figsize=(8, 6))\n",
    "plt.errorbar(range(1, 1+len(w)), w, fmt=\"o\", yerr=werr, label=\"экспериментальные данный\", capsize=4, ms=6)\n",
    "\n",
    "plt.grid(True)\n",
    "plt.xlabel(r\"номер груза\")\n",
    "plt.ylabel(r\"$\\omega_{down}$, рад/с\")\n",
    "plt.legend()\n",
    "plt.title(r\"Угловая скорость опускания оси гироскопа за счёт трения\")\n",
    "\n",
    "plt.savefig('wdown.png', dpi=300)\n"
   ]
  }
 ],
 "metadata": {
  "interpreter": {
   "hash": "edcff9377e773033c0414e81a83c2d270bb77d0bb1648cda28b0e21e44a58f83"
  },
  "kernelspec": {
   "display_name": "Python 3.9.7 64-bit ('LabDataEnv': conda)",
   "language": "python",
   "name": "python3"
  },
  "language_info": {
   "codemirror_mode": {
    "name": "ipython",
    "version": 3
   },
   "file_extension": ".py",
   "mimetype": "text/x-python",
   "name": "python",
   "nbconvert_exporter": "python",
   "pygments_lexer": "ipython3",
   "version": "3.9.7"
  },
  "orig_nbformat": 4
 },
 "nbformat": 4,
 "nbformat_minor": 2
}

{
 "cells": [
  {
   "cell_type": "code",
   "execution_count": 2,
   "metadata": {
    "collapsed": true
   },
   "outputs": [],
   "source": [
    "import numpy as np"
   ]
  },
  {
   "cell_type": "code",
   "execution_count": 6,
   "metadata": {
    "collapsed": false,
    "pycharm": {
     "name": "#%%\n"
    }
   },
   "outputs": [],
   "source": [
    "def my_format(value, error):\n",
    "    first_digit = (np.array(error/10**np.floor(np.log10(error)), dtype=\"int\"))\n",
    "    first_digit_position = np.array(np.floor(np.log10(error)), dtype=\"int\")\n",
    "    ndigits = 1\n",
    "    if first_digit == 1:\n",
    "        ndigits += 1\n",
    "    power = np.log10(value)\n",
    "    if abs(power//3) >= 1:\n",
    "        power = 3*int(power//3)\n",
    "        value /= 10**power\n",
    "        error /= 10**power\n",
    "        digit_number = -first_digit_position + ndigits+power-1\n",
    "        if digit_number <= 0:\n",
    "            return int(value), int(error), power\n",
    "        return round(value, digit_number), round(error, digit_number), power\n",
    "    digit_number = -first_digit_position + ndigits-1\n",
    "    if digit_number == 0:\n",
    "        return int(value), int(error) \n",
    "    return round(value, -first_digit_position + ndigits-1), round(error, -first_digit_position + ndigits-1)\n"
   ]
  },
  {
   "cell_type": "code",
   "execution_count": 7,
   "metadata": {
    "collapsed": false,
    "pycharm": {
     "name": "#%%\n"
    }
   },
   "outputs": [
    {
     "name": "stdout",
     "output_type": "stream",
     "text": [
      "From 51307.20116251147 +- 2280.3082122981773\n",
      " formatted to (51 +- 2)E3\n",
      "From 56606.81145972731 +- 3470.757613525735\n",
      " formatted to (56 +- 3)E3\n",
      "From 44748.03996815382 +- 1525.1487367831428\n",
      " formatted to (44.7 +- 1.5)E3\n",
      "From 98253.46319875187 +- 3429.66158324602\n",
      " formatted to (98 +- 3)E3\n",
      "From 8308.75748327427 +- 522.1810638933233\n",
      " formatted to (8.3 +- 0.5)E3\n",
      "From 59678.991308168224 +- 2117.2870136531465\n",
      " formatted to (59 +- 2)E3\n",
      "From 46961.92579741419 +- 973.3860734145871\n",
      " formatted to (47.0 +- 1.0)E3\n",
      "From 89682.62348675505 +- 8886.773888564756\n",
      " formatted to (89 +- 8)E3\n",
      "From 96714.88770661748 +- 893.8853444759859\n",
      " formatted to (96.7 +- 0.9)E3\n",
      "From 70007.94402103535 +- 3170.6624166966585\n",
      " formatted to (70 +- 3)E3\n"
     ]
    }
   ],
   "source": [
    "# Testing\n",
    "n = 10\n",
    "val = np.random.random(n)*100000+0.01\n",
    "err = val*(np.random.random(n)*0.1+0.004)\n",
    "# val, err\n",
    "for v, r in zip(val, err):\n",
    "    # print(r, end=\"\\t\")\n",
    "    # print(np.log10(r), end='\\t')\n",
    "    # # print(\"first digit is\", (np.array(r/10**np.floor(np.log10(r)), dtype=\"int\")), end='\\t')\n",
    "    # first_digit = (np.array(r/10**np.floor(np.log10(r)), dtype=\"int\"))\n",
    "    # first_digit_position = np.array(np.floor(np.log10(r)), dtype=\"int\")\n",
    "    # print(first_digit_position, end=\"\\t\")\n",
    "    # ndigits = 1\n",
    "    # if first_digit == 1:\n",
    "    #     ndigits += 1\n",
    "    # print(round(r, -first_digit_position + ndigits-1), end='\\t')\n",
    "    # print()\n",
    "    tup = my_format(v, r)\n",
    "    if len(tup) == 2:\n",
    "        vf, rf = tup\n",
    "        print(f\"From {v} +- {r}\\n formatted to {vf} +- {rf}\")\n",
    "    else:\n",
    "        vf, rf, power = tup\n",
    "        print(f\"From {v} +- {r}\\n formatted to ({vf} +- {rf})E{power}\")\n"
   ]
  },
  {
   "cell_type": "code",
   "execution_count": 15,
   "metadata": {},
   "outputs": [
    {
     "data": {
      "text/plain": [
       "10.0"
      ]
     },
     "execution_count": 15,
     "metadata": {},
     "output_type": "execute_result"
    }
   ],
   "source": [
    "round(10.112, -1)"
   ]
  },
  {
   "cell_type": "code",
   "execution_count": 107,
   "metadata": {
    "collapsed": false,
    "pycharm": {
     "name": "#%%\n"
    }
   },
   "outputs": [
    {
     "name": "stdout",
     "output_type": "stream",
     "text": [
      "0.134535\n"
     ]
    },
    {
     "data": {
      "text/plain": [
       "'1.22312e+08'"
      ]
     },
     "execution_count": 107,
     "metadata": {},
     "output_type": "execute_result"
    }
   ],
   "source": [
    "print(format(0.1345345323, '1g'))\n",
    "\"{:3g}\".format(122312341.1345345323)\n",
    "# '{:G}'.format(-123456789.8765)"
   ]
  },
  {
   "cell_type": "code",
   "execution_count": 108,
   "metadata": {
    "collapsed": false,
    "pycharm": {
     "name": "#%%\n"
    }
   },
   "outputs": [
    {
     "data": {
      "text/plain": [
       "123.23"
      ]
     },
     "execution_count": 108,
     "metadata": {},
     "output_type": "execute_result"
    }
   ],
   "source": [
    "round(123.231231231, 2)"
   ]
  }
 ],
 "metadata": {
  "interpreter": {
   "hash": "f13c76062b5ab76b0b52594f7dbe21ab440ed31528d2730582c256d0012694e0"
  },
  "kernelspec": {
   "display_name": "Python 3.8.10 64-bit ('venvPhysLaba': venv)",
   "name": "python3"
  },
  "language_info": {
   "codemirror_mode": {
    "name": "ipython",
    "version": 3
   },
   "file_extension": ".py",
   "mimetype": "text/x-python",
   "name": "python",
   "nbconvert_exporter": "python",
   "pygments_lexer": "ipython3",
   "version": "3.8.10"
  }
 },
 "nbformat": 4,
 "nbformat_minor": 0
}

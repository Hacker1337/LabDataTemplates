{
 "cells": [
  {
   "cell_type": "markdown",
   "metadata": {},
   "source": [
    "# Графики"
   ]
  },
  {
   "cell_type": "code",
   "execution_count": 10,
   "metadata": {
    "collapsed": true
   },
   "outputs": [],
   "source": [
    "import os.path\n",
    "import numpy as np\n",
    "import matplotlib.pyplot as plt\n",
    "import pandas as pd\n",
    "imNum = 1\n",
    "impath = 'trash_img'\n",
    "#switching latex fonts\n",
    "plt.rcParams.update({\n",
    "    \"text.usetex\" : True,\n",
    "    \"font.family\" : \"serif\",\n",
    "    \"font.serif\" : \"Computer Modern\",\n",
    "    \"text.latex.preamble\" : r'\\usepackage{amsmath} \\usepackage{mathtext} \\usepackage[english, russian]{babel}'\n",
    "})\n",
    "plt.rcParams.update({\n",
    "    \"figure.figsize\": (12, 9)\n",
    "})\n",
    "\n",
    "# необходимые функции\n",
    "\n",
    "def err_pres_formatter(value, error):\n",
    "    \"\"\"Rounds value and it's error according to scientific conventions\"\"\"\n",
    "    first_digit = (np.array(error/10**np.floor(np.log10(error)), dtype=\"int\"))\n",
    "    first_digit_position = np.array(np.floor(np.log10(error)), dtype=\"int\")\n",
    "    ndigits = 1\n",
    "    if first_digit == 1:\n",
    "        ndigits += 1\n",
    "    power = np.log10(abs(value))\n",
    "    if abs(power//3) >= 1:\n",
    "        power = 3*int(power//3)\n",
    "        value /= 10**power\n",
    "        error /= 10**power\n",
    "        digit_number = -first_digit_position + ndigits+power-1\n",
    "        if digit_number <= 0:\n",
    "            return f\"({round(int(value), digit_number)} \\u00B1 {round(int(error), digit_number)})$\\cdot 10^{{{power}}}$\"\n",
    "        return f\"({round(value, digit_number)} \\u00B1 {round(error, digit_number)})$\\cdot 10^{{{power}}}$\"\n",
    "    digit_number = -first_digit_position + ndigits-1\n",
    "    if digit_number <= 0:\n",
    "        return f\"{round(int(value), digit_number)} \\u00B1 {round(int(error), digit_number)}\"\n",
    "    return f\"{round(value, digit_number)} \\u00B1 {round(error, digit_number)}\"\n",
    "\n",
    "\n",
    "def lower_upper_limits(domain, fun, popt, pcov, nsigma=1):\n",
    "    '''Вычисляет минимальные и максимальные значения функции \n",
    "    при заданных парамерах и стандартных отклонениях\n",
    "    в пределах nsigma*стандартное отклонение\n",
    "    Возвращает:\n",
    "    minA :(np.array) - массив минимальных значений\n",
    "    maxA :(np.array) - массив максимальных значений'''\n",
    "    err = np.sqrt(np.diag(pcov))\n",
    "    corr = pcov /np.expand_dims(err, 1) / np.expand_dims(err, 0)\n",
    "    deviations = np.eye(popt.size)*np.expand_dims(err, 1)  \n",
    "    df = np.expand_dims(fun(domain, *popt), 1) - fun(np.expand_dims(X, 1), *(np.expand_dims(popt, 1)+np.eye(popt.size)*np.expand_dims(err, 1)))\n",
    "    dfmatrixes = np.expand_dims(df, 1)*np.expand_dims(df, 2) * np.expand_dims(corr, 0)\n",
    "    sigm_f = np.sqrt(np.sum(dfmatrixes, axis=(1, 2)))\n",
    "    return (fun(domain, *popt)-nsigma*sigm_f, fun(domain, *popt)+nsigma*sigm_f)"
   ]
  },
  {
   "cell_type": "code",
   "execution_count": 2,
   "metadata": {
    "collapsed": false,
    "pycharm": {
     "name": "#%%\n"
    }
   },
   "outputs": [],
   "source": [
    "#ВВод данных\n",
    "df = pd.read_excel(\"measurements.ods\", engine=\"odf\")\n",
    "x = df.iloc[:, 0].dropna()\n",
    "y = df.iloc[:, 1].dropna()\n",
    "xerr = 0.1\n",
    "yerr = 1"
   ]
  },
  {
   "cell_type": "code",
   "execution_count": 3,
   "metadata": {},
   "outputs": [
    {
     "data": {
      "text/plain": [
       "0    10.0\n",
       "1    11.0\n",
       "2    12.0\n",
       "3    13.0\n",
       "4    14.0\n",
       "Name: R, om, dtype: float64"
      ]
     },
     "execution_count": 3,
     "metadata": {},
     "output_type": "execute_result"
    }
   ],
   "source": [
    "df.iloc[:, 0].dropna()"
   ]
  },
  {
   "cell_type": "code",
   "execution_count": 9,
   "metadata": {
    "collapsed": false,
    "pycharm": {
     "name": "#%%\n"
    }
   },
   "outputs": [],
   "source": [
    "#xi square approximation with Y-errors\n",
    "# %matplotlib inline\n",
    "# пользовательские параметры. Переменные x, y, xerr, yerr дожны содержать данные\n",
    "''' также необходимо изменить\n",
    "название осей с размерностями, \n",
    "название графика, \n",
    "название функции ,\n",
    "набор параметров с размерностями через запятую '''\n",
    "visApproxError = True   # рисовать ли область ошибки аппроксимации\n",
    "par_names_str = r'''\n",
    "$\\frac{dR}{dt}$, $\\frac{\\Omega}{c}$\n",
    "b, $\\Omega$\n",
    "'''\n",
    "# function to approximate\n",
    "fun_name = r\"$f(x) = \\frac{dR/dt}t + b$\"\n",
    "def f(x, k, b):\n",
    "    return b + k * x\n",
    "# конец пользовательских параметров\n",
    "\n",
    "from scipy.optimize import curve_fit\n"
   ]
  },
  {
   "cell_type": "code",
   "execution_count": 11,
   "metadata": {},
   "outputs": [
    {
     "name": "stdout",
     "output_type": "stream",
     "text": [
      "0.810810810810398 +- 0.002599376228686121\n",
      "8.918918918936193 +- 0.010842857914184935\n"
     ]
    },
    {
     "data": {
      "image/png": "[encoded data removed]",
      "text/plain": [
       "<Figure size 864x648 with 1 Axes>"
      ]
     },
     "metadata": {
      "needs_background": "light"
     },
     "output_type": "display_data"
    }
   ],
   "source": [
    "N = 0 # номер измерения\n",
    "\n",
    "x = df.iloc[:, 3*N+1].dropna()\n",
    "y = df.iloc[:, 3*N+0].dropna()\n",
    "xerr = np.ones_like(x)*1\n",
    "yerr = np.ones_like(x)*0.01\n",
    "\n",
    "popt, pcov = curve_fit(f, x, y, sigma=yerr, absolute_sigma=True)\n",
    "err = np.sqrt(np.diag(pcov))\n",
    "for v, er in zip(popt, err):\n",
    "    print(v,'+-',er)\n",
    "\n",
    "approx_label = f\"аппроксимация функцией {fun_name}\"\n",
    "par_names = [x.split(', ') for x in par_names_str.strip().split(\"\\n\")]\n",
    "for i in range(len(par_names)):\n",
    "    name, units = par_names[i]\n",
    "    tup = err_pres_formatter(popt[i], err[i])\n",
    "    approx_label += f\"\\n{name} = {err_pres_formatter(popt[i], err[i])} {units}\"\n",
    "\n",
    "plt.errorbar(x, y, fmt=\"o\", xerr=xerr, yerr=yerr, label=\"экспериментальные данные\", capsize=4, ms=6)\n",
    "teorPoints = 50     \n",
    "intent = 0.05   # отступ по бокам от обласи экспериментальных данных\n",
    "a, b = x.min(), x.max()\n",
    "X = np.linspace(a-(b-a)*intent, b+(b-a)*intent, num=teorPoints)\n",
    "plt.plot(X, f(X, *popt), 'r', label=approx_label)\n",
    "if visApproxError:\n",
    "    nsigma = 2\n",
    "    minA, maxA = lower_upper_limits(X, f, popt, pcov, nsigma=nsigma)\n",
    "    plt.fill_between(X, minA, maxA, alpha=0.4, label=f\"облсть {nsigma} $\\sigma$ ошибки\")\n",
    "\n",
    "plt.grid(True)\n",
    "plt.xlabel(r\"$t$, c\")\n",
    "plt.ylabel(r\"$R$, $\\Omega$\")\n",
    "plt.title(r\"$R(t)$\")\n",
    "plt.legend()\n",
    "\n",
    "plt.savefig(f\"{impath}{imNum}.png\", dpi=300)\n",
    "# plt.savefig(f\"name.png\", dpi=300)\n",
    "imNum+=1"
   ]
  },
  {
   "cell_type": "code",
   "execution_count": 53,
   "metadata": {},
   "outputs": [
    {
     "name": "stdout",
     "output_type": "stream",
     "text": [
      "0.0009039042037237128 +- 2.0087349431510143e-06\n",
      "18.317586183603954 +- 0.0009274416009160009\n"
     ]
    },
    {
     "data": {
      "image/png": "[encoded data removed]",
      "text/plain": [
       "<Figure size 864x648 with 1 Axes>"
      ]
     },
     "metadata": {
      "needs_background": "light"
     },
     "output_type": "display_data"
    }
   ],
   "source": [
    "df = pd.read_excel(\"measurements.ods\", engine=\"odf\")\n",
    "N = 4 # номер измерения\n",
    "size = 170\n",
    "x = df.iloc[:, 5*N+1].dropna()[:size]\n",
    "y = df.iloc[:, 5*N+0].dropna()[:size]\n",
    "xerr = np.ones_like(x)*1\n",
    "yerr = np.ones_like(x)*0.002\n",
    "\n",
    "popt, pcov = curve_fit(f, x[8:], y[8:], sigma=yerr[8:], absolute_sigma=True)\n",
    "err = np.sqrt(np.diag(pcov))\n",
    "for v, er in zip(popt, err):\n",
    "    print(v,'+-',er)\n",
    "\n",
    "approx_label = f\"аппроксимация функцией {fun_name}\"\n",
    "par_names = [x.split(', ') for x in par_names_str.strip().split(\"\\n\")]\n",
    "for i in range(len(par_names)):\n",
    "    name, units = par_names[i]\n",
    "    tup = err_pres_formatter(popt[i], err[i])\n",
    "    approx_label += f\"\\n{name} = {err_pres_formatter(popt[i], err[i])} {units}\"\n",
    "\n",
    "plt.errorbar(x, y, fmt=\"o\", xerr=xerr, yerr=yerr, label=\"экспериментальные данные\", capsize=4, ms=6)\n",
    "teorPoints = 50     \n",
    "intent = 0.05   # отступ по бокам от обласи экспериментальных данных\n",
    "a, b = x.min(), x.max()\n",
    "X = np.linspace(a-(b-a)*intent, b+(b-a)*intent, num=teorPoints)\n",
    "plt.plot(X, f(X, *popt), 'r', label=approx_label)\n",
    "if visApproxError:\n",
    "    nsigma = 2\n",
    "    minA, maxA = lower_upper_limits(X, f, popt, pcov, nsigma=nsigma)\n",
    "    plt.fill_between(X, minA, maxA, alpha=0.4, label=f\"облсть {nsigma} $\\sigma$ ошибки\")\n",
    "\n",
    "plt.grid(True)\n",
    "plt.xlabel(r\"$t$, c\")\n",
    "plt.ylabel(r\"$R$, $\\Omega$\")\n",
    "plt.title(r\"$R(t)$\")\n",
    "plt.legend()\n",
    "\n",
    "plt.savefig(f\"{impath}{imNum}.png\", dpi=300)\n",
    "imNum+=1"
   ]
  },
  {
   "cell_type": "code",
   "execution_count": null,
   "metadata": {},
   "outputs": [],
   "source": []
  },
  {
   "cell_type": "code",
   "execution_count": null,
   "metadata": {},
   "outputs": [],
   "source": []
  },
  {
   "cell_type": "code",
   "execution_count": null,
   "metadata": {},
   "outputs": [],
   "source": []
  },
  {
   "cell_type": "markdown",
   "metadata": {},
   "source": [
    "# Расчеты"
   ]
  },
  {
   "cell_type": "code",
   "execution_count": 55,
   "metadata": {},
   "outputs": [
    {
     "name": "stdout",
     "output_type": "stream",
     "text": [
      "203260.51589330958\n"
     ]
    }
   ],
   "source": [
    "P = 0.29*17.3*2  # мощность нагрева\n",
    "Rk = 18.314     # сопротивление при комнате\n",
    "alpha = 4.28e-3 \n",
    "Tk = 22.7         # комнатная температура\n",
    "\n",
    "drdt = 0.0009039042037237128\n",
    "error = 2.0087349431510143e-06\n",
    "\n",
    "C = P*Rk/(drdt *(1+alpha/Tk))\n",
    "print(C)"
   ]
  },
  {
   "cell_type": "code",
   "execution_count": 56,
   "metadata": {},
   "outputs": [
    {
     "name": "stdout",
     "output_type": "stream",
     "text": [
      "283419.5911346512\n",
      "80159.07524134163\n",
      "Abs Error Is  2146.4971648086607\n",
      "Rel error is  0.026777968163255655\n"
     ]
    }
   ],
   "source": [
    "drdt1 = 0.0006482545332574585\n",
    "error1 = 3.876435673324558e-06\n",
    "C1 = P*Rk/(drdt1 *(1+alpha/Tk))\n",
    "print(C1)\n",
    "print(C1-C)\n",
    "print(\"Abs Error Is \", C1*(error1)/drdt1 + C*error/drdt)\n",
    "print(\"Rel error is \", (C1*(error1)/drdt1 + C*error/drdt)/(C1-C))"
   ]
  },
  {
   "cell_type": "code",
   "execution_count": null,
   "metadata": {},
   "outputs": [],
   "source": []
  }
 ],
 "metadata": {
  "interpreter": {
   "hash": "edcff9377e773033c0414e81a83c2d270bb77d0bb1648cda28b0e21e44a58f83"
  },
  "kernelspec": {
   "display_name": "Python 3.9.7 64-bit ('LabDataEnv': conda)",
   "language": "python",
   "name": "python3"
  },
  "language_info": {
   "codemirror_mode": {
    "name": "ipython",
    "version": 3
   },
   "file_extension": ".py",
   "mimetype": "text/x-python",
   "name": "python",
   "nbconvert_exporter": "python",
   "pygments_lexer": "ipython3",
   "version": "3.9.7"
  },
  "orig_nbformat": 4
 },
 "nbformat": 4,
 "nbformat_minor": 2
}

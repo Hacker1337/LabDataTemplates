{
 "cells": [
  {
   "cell_type": "code",
   "execution_count": 20,
   "metadata": {
    "collapsed": true
   },
   "outputs": [],
   "source": [
    "import numpy as np\n",
    "import matplotlib.pyplot as plt\n",
    "from scipy.optimize import optimize"
   ]
  },
  {
   "cell_type": "code",
   "execution_count": 21,
   "outputs": [],
   "source": [
    "numbers40 = np.array('''51\n",
    "47\n",
    "61\n",
    "48\n",
    "60\n",
    "48\n",
    "49\n",
    "59\n",
    "48\n",
    "45\n",
    "55\n",
    "57\n",
    "47\n",
    "42\n",
    "48\n",
    "50\n",
    "40\n",
    "48\n",
    "54\n",
    "55\n",
    "48\n",
    "62\n",
    "48\n",
    "43\n",
    "42\n",
    "44\n",
    "64\n",
    "58\n",
    "52\n",
    "45\n",
    "40\n",
    "50\n",
    "52\n",
    "54\n",
    "52\n",
    "45\n",
    "53\n",
    "51\n",
    "48\n",
    "62\n",
    "47\n",
    "42\n",
    "62\n",
    "52\n",
    "47\n",
    "55\n",
    "55\n",
    "56\n",
    "37\n",
    "54\n",
    "46\n",
    "44\n",
    "54\n",
    "39\n",
    "44\n",
    "49\n",
    "43\n",
    "50\n",
    "42\n",
    "48\n",
    "52\n",
    "52\n",
    "44\n",
    "50\n",
    "45\n",
    "49\n",
    "55\n",
    "48\n",
    "47\n",
    "46\n",
    "47\n",
    "56\n",
    "45\n",
    "52\n",
    "59\n",
    "48\n",
    "42\n",
    "56\n",
    "41\n",
    "59\n",
    "48\n",
    "62\n",
    "59\n",
    "57\n",
    "59\n",
    "50\n",
    "40\n",
    "41\n",
    "48\n",
    "57\n",
    "53\n",
    "57\n",
    "48\n",
    "52\n",
    "54\n",
    "50'''.split(), dtype='int64')"
   ],
   "metadata": {
    "collapsed": false,
    "pycharm": {
     "name": "#%%\n"
    }
   }
  },
  {
   "cell_type": "code",
   "execution_count": 22,
   "outputs": [
    {
     "data": {
      "text/plain": "(array([ 2, 10, 11,  8, 23, 12, 10,  8,  7,  5], dtype=int64),\n array([37. , 39.7, 42.4, 45.1, 47.8, 50.5, 53.2, 55.9, 58.6, 61.3, 64. ]))"
     },
     "execution_count": 22,
     "metadata": {},
     "output_type": "execute_result"
    }
   ],
   "source": [
    "hist40 = np.histogram(numbers40)\n",
    "hist40"
   ],
   "metadata": {
    "collapsed": false,
    "pycharm": {
     "name": "#%%\n"
    }
   }
  },
  {
   "cell_type": "code",
   "execution_count": 23,
   "outputs": [
    {
     "data": {
      "text/plain": "[array([ 4,  5,  6,  7,  8,  9, 10, 11, 12, 13, 14, 15, 16, 17, 18, 19, 20,\n        21, 22, 29]),\n array([ 1,  5,  1, 11, 21, 35, 46, 34, 48, 34, 47, 36, 21, 17, 12,  6,  3,\n         7,  2,  1])]"
     },
     "execution_count": 23,
     "metadata": {},
     "output_type": "execute_result"
    }
   ],
   "source": [
    "s = '''4\t5\t6\t7\t8\t9\t10\t11\t12\t13\t14\t15\t16\t17\t18\t19\t20\t21\t22\t29\n",
    "1\t5\t1\t11\t21\t35\t46\t34\t48\t34\t47\t36\t21\t17\t12\t6\t3\t7\t2\t1'''\n",
    "hist10 = [np.array(x.split(), dtype=int) for x in s.split('\\n')]\n",
    "hist10"
   ],
   "metadata": {
    "collapsed": false,
    "pycharm": {
     "name": "#%%\n"
    }
   }
  },
  {
   "cell_type": "code",
   "execution_count": 24,
   "outputs": [],
   "source": [
    "numbers10 = []\n",
    "for i in range(len(hist10[0])):\n",
    "    for j in range(hist10[1][i]):\n",
    "        numbers10.append(hist10[0][i])"
   ],
   "metadata": {
    "collapsed": false,
    "pycharm": {
     "name": "#%%\n"
    }
   }
  },
  {
   "cell_type": "code",
   "execution_count": 24,
   "outputs": [],
   "source": [
    "\n",
    "\n",
    "\n",
    "mean = np.mean(numbers10)"
   ],
   "metadata": {
    "collapsed": false,
    "pycharm": {
     "name": "#%%\n"
    }
   }
  },
  {
   "cell_type": "code",
   "execution_count": 26,
   "outputs": [
    {
     "data": {
      "text/plain": "11.960516526729725"
     },
     "execution_count": 26,
     "metadata": {},
     "output_type": "execute_result"
    }
   ],
   "source": [
    "np.mean(np.square(numbers10-np.mean(numbers10)))"
   ],
   "metadata": {
    "collapsed": false,
    "pycharm": {
     "name": "#%%\n"
    }
   }
  },
  {
   "cell_type": "code",
   "execution_count": 29,
   "outputs": [
    {
     "name": "stdout",
     "output_type": "stream",
     "text": [
      "6.126479058947498\n",
      "37.533745659722626\n",
      "50.197916666666664\n"
     ]
    }
   ],
   "source": [
    "print(np.sqrt(np.mean(np.square(numbers40-np.mean(numbers40)))))\n",
    "print(np.mean(np.square(numbers40)) - np.mean(numbers40)**2)\n",
    "print(np.mean(numbers40))"
   ],
   "metadata": {
    "collapsed": false,
    "pycharm": {
     "name": "#%%\n"
    }
   }
  },
  {
   "cell_type": "code",
   "execution_count": 18,
   "outputs": [],
   "source": [],
   "metadata": {
    "collapsed": false,
    "pycharm": {
     "name": "#%%\n"
    }
   }
  },
  {
   "cell_type": "code",
   "execution_count": 34,
   "outputs": [
    {
     "name": "stdout",
     "output_type": "stream",
     "text": [
      "Mean = 12.577319587628866\n",
      "Sigma = 3.4583979711319697\n",
      "2 Sigma = 6.916795942263939\n",
      "N = 388\n",
      "In sigma is  266 which is 0.6855670103092784\n",
      "In 2 sigma is  369 which is 0.9510309278350515\n",
      "Next!!\n",
      "\n",
      "Mean = 50.197916666666664\n",
      "Sigma = 6.126479058947498\n",
      "2 Sigma = 12.252958117894996\n",
      "N = 96\n",
      "In sigma is  61 which is 0.6354166666666666\n",
      "In 2 sigma is  94 which is 0.9791666666666666\n",
      "Next!!\n",
      "\n"
     ]
    }
   ],
   "source": [
    "for a in [numbers10, numbers40]:\n",
    "    m = np.mean(a)\n",
    "    print(\"Mean =\", m)\n",
    "    sigm = np.sqrt(np.mean(np.square(a-np.mean(a))))\n",
    "    print(\"Sigma =\", sigm)\n",
    "    print(\"2 Sigma =\", 2*sigm) \n",
    "    n = len(a)\n",
    "    print(\"N =\", n)\n",
    "    inS = np.count_nonzero(np.bitwise_and((m - sigm < a), (a < m + sigm)))\n",
    "    print(\"In sigma is \", inS, \"which is\", inS/n)\n",
    "\n",
    "    inDS = np.count_nonzero(np.bitwise_and((m - 2*sigm < a), (a < m + 2*sigm)))\n",
    "    print(\"In 2 sigma is \", inDS, \"which is\", inDS/n)\n",
    "    print(\"Next!!\\n\")"
   ],
   "metadata": {
    "collapsed": false,
    "pycharm": {
     "name": "#%%\n"
    }
   }
  },
  {
   "cell_type": "code",
   "execution_count": 32,
   "outputs": [
    {
     "data": {
      "text/plain": "array([False, False, False, False, False, False, False, False, False,\n       False, False, False, False, False, False, False, False, False,\n       False, False, False, False, False, False, False, False, False,\n       False, False, False, False, False, False, False, False, False,\n       False, False, False, False, False, False, False, False, False,\n       False, False, False, False, False, False, False, False, False,\n       False, False, False, False, False, False, False, False, False,\n       False, False, False, False, False, False, False, False, False,\n       False, False, False, False, False, False, False, False, False,\n       False, False, False, False, False, False, False, False, False,\n       False, False, False, False, False, False])"
     },
     "execution_count": 32,
     "metadata": {},
     "output_type": "execute_result"
    }
   ],
   "source": [
    "numbers40 < 10\n"
   ],
   "metadata": {
    "collapsed": false,
    "pycharm": {
     "name": "#%%\n"
    }
   }
  }
 ],
 "metadata": {
  "kernelspec": {
   "display_name": "Python 3",
   "language": "python",
   "name": "python3"
  },
  "language_info": {
   "codemirror_mode": {
    "name": "ipython",
    "version": 2
   },
   "file_extension": ".py",
   "mimetype": "text/x-python",
   "name": "python",
   "nbconvert_exporter": "python",
   "pygments_lexer": "ipython2",
   "version": "2.7.6"
  }
 },
 "nbformat": 4,
 "nbformat_minor": 0
}
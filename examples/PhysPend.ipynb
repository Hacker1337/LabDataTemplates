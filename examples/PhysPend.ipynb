{
 "cells": [
  {
   "cell_type": "code",
   "execution_count": 70,
   "metadata": {
    "collapsed": true
   },
   "outputs": [],
   "source": [
    "import numpy as np\n",
    "import matplotlib.pyplot as plt\n",
    "from scipy.optimize import curve_fit\n",
    "import pandas as pd"
   ]
  },
  {
   "cell_type": "code",
   "execution_count": 71,
   "outputs": [],
   "source": [
    "src = \"/home/amir/Документы/MIPT_laba/physPend/physPend.xlsx\""
   ],
   "metadata": {
    "collapsed": false,
    "pycharm": {
     "name": "#%%\n"
    }
   }
  },
  {
   "cell_type": "code",
   "execution_count": 72,
   "outputs": [],
   "source": [
    "time_from_a = pd.read_excel(src, sheet_name=\"T(a)\")[:12]"
   ],
   "metadata": {
    "collapsed": false,
    "pycharm": {
     "name": "#%%\n"
    }
   }
  },
  {
   "cell_type": "code",
   "execution_count": 73,
   "outputs": [
    {
     "data": {
      "text/plain": "    номер опыта  a, см  x_цм, см  Tсум, с      N   T1, с  Unnamed: 6  \\\n0           1.0   16.0      14.6    83.25   50.0  1.6650         NaN   \n1           2.0   19.0      17.3   160.00  100.0  1.6000         NaN   \n2           3.0   22.0      20.0   156.00  100.0  1.5600         NaN   \n3           4.0   25.0      22.7   153.66  100.0  1.5366         NaN   \n4           5.0   28.0      25.5   152.84  100.0  1.5284         NaN   \n5           6.0   31.0      28.3   152.94  100.0  1.5294         NaN   \n6           7.0   34.0      31.0   153.72  100.0  1.5372         NaN   \n7           8.0   39.0      35.6   156.07  100.0  1.5607         NaN   \n8           9.0   42.0      38.3   157.91  100.0  1.5791         NaN   \n9          10.0   45.0      41.0   160.07  100.0  1.6007         NaN   \n10         11.0   48.0      43.9   162.28  100.0  1.6228         NaN   \n11         12.0   13.0      11.6   177.69  100.0  1.7769         NaN   \n\n     Unnamed: 7    g, м/с      l_пр    m_пр    m_ст  \n0   Угол 10 deg  9.765670  0.685755  0.0766  0.8702  \n1           NaN  9.785028  0.634513     NaN     NaN  \n2           NaN  9.820624  0.605378     NaN     NaN  \n3    Угол 5 deg  9.872608  0.590462     NaN     NaN  \n4           NaN  9.851626  0.582935     NaN     NaN  \n5           NaN  9.835515  0.582744     NaN     NaN  \n6           NaN  9.853890  0.589803     NaN     NaN  \n7           NaN  9.851485  0.607825     NaN     NaN  \n8           NaN  9.868071  0.623289     NaN     NaN  \n9           NaN  9.872604  0.640752     NaN     NaN  \n10          NaN  9.846655  0.656836     NaN     NaN  \n11          NaN  9.930036  0.794173     NaN     NaN  ",
      "text/html": "<div>\n<style scoped>\n    .dataframe tbody tr th:only-of-type {\n        vertical-align: middle;\n    }\n\n    .dataframe tbody tr th {\n        vertical-align: top;\n    }\n\n    .dataframe thead th {\n        text-align: right;\n    }\n</style>\n<table border=\"1\" class=\"dataframe\">\n  <thead>\n    <tr style=\"text-align: right;\">\n      <th></th>\n      <th>номер опыта</th>\n      <th>a, см</th>\n      <th>x_цм, см</th>\n      <th>Tсум, с</th>\n      <th>N</th>\n      <th>T1, с</th>\n      <th>Unnamed: 6</th>\n      <th>Unnamed: 7</th>\n      <th>g, м/с</th>\n      <th>l_пр</th>\n      <th>m_пр</th>\n      <th>m_ст</th>\n    </tr>\n  </thead>\n  <tbody>\n    <tr>\n      <th>0</th>\n      <td>1.0</td>\n      <td>16.0</td>\n      <td>14.6</td>\n      <td>83.25</td>\n      <td>50.0</td>\n      <td>1.6650</td>\n      <td>NaN</td>\n      <td>Угол 10 deg</td>\n      <td>9.765670</td>\n      <td>0.685755</td>\n      <td>0.0766</td>\n      <td>0.8702</td>\n    </tr>\n    <tr>\n      <th>1</th>\n      <td>2.0</td>\n      <td>19.0</td>\n      <td>17.3</td>\n      <td>160.00</td>\n      <td>100.0</td>\n      <td>1.6000</td>\n      <td>NaN</td>\n      <td>NaN</td>\n      <td>9.785028</td>\n      <td>0.634513</td>\n      <td>NaN</td>\n      <td>NaN</td>\n    </tr>\n    <tr>\n      <th>2</th>\n      <td>3.0</td>\n      <td>22.0</td>\n      <td>20.0</td>\n      <td>156.00</td>\n      <td>100.0</td>\n      <td>1.5600</td>\n      <td>NaN</td>\n      <td>NaN</td>\n      <td>9.820624</td>\n      <td>0.605378</td>\n      <td>NaN</td>\n      <td>NaN</td>\n    </tr>\n    <tr>\n      <th>3</th>\n      <td>4.0</td>\n      <td>25.0</td>\n      <td>22.7</td>\n      <td>153.66</td>\n      <td>100.0</td>\n      <td>1.5366</td>\n      <td>NaN</td>\n      <td>Угол 5 deg</td>\n      <td>9.872608</td>\n      <td>0.590462</td>\n      <td>NaN</td>\n      <td>NaN</td>\n    </tr>\n    <tr>\n      <th>4</th>\n      <td>5.0</td>\n      <td>28.0</td>\n      <td>25.5</td>\n      <td>152.84</td>\n      <td>100.0</td>\n      <td>1.5284</td>\n      <td>NaN</td>\n      <td>NaN</td>\n      <td>9.851626</td>\n      <td>0.582935</td>\n      <td>NaN</td>\n      <td>NaN</td>\n    </tr>\n    <tr>\n      <th>5</th>\n      <td>6.0</td>\n      <td>31.0</td>\n      <td>28.3</td>\n      <td>152.94</td>\n      <td>100.0</td>\n      <td>1.5294</td>\n      <td>NaN</td>\n      <td>NaN</td>\n      <td>9.835515</td>\n      <td>0.582744</td>\n      <td>NaN</td>\n      <td>NaN</td>\n    </tr>\n    <tr>\n      <th>6</th>\n      <td>7.0</td>\n      <td>34.0</td>\n      <td>31.0</td>\n      <td>153.72</td>\n      <td>100.0</td>\n      <td>1.5372</td>\n      <td>NaN</td>\n      <td>NaN</td>\n      <td>9.853890</td>\n      <td>0.589803</td>\n      <td>NaN</td>\n      <td>NaN</td>\n    </tr>\n    <tr>\n      <th>7</th>\n      <td>8.0</td>\n      <td>39.0</td>\n      <td>35.6</td>\n      <td>156.07</td>\n      <td>100.0</td>\n      <td>1.5607</td>\n      <td>NaN</td>\n      <td>NaN</td>\n      <td>9.851485</td>\n      <td>0.607825</td>\n      <td>NaN</td>\n      <td>NaN</td>\n    </tr>\n    <tr>\n      <th>8</th>\n      <td>9.0</td>\n      <td>42.0</td>\n      <td>38.3</td>\n      <td>157.91</td>\n      <td>100.0</td>\n      <td>1.5791</td>\n      <td>NaN</td>\n      <td>NaN</td>\n      <td>9.868071</td>\n      <td>0.623289</td>\n      <td>NaN</td>\n      <td>NaN</td>\n    </tr>\n    <tr>\n      <th>9</th>\n      <td>10.0</td>\n      <td>45.0</td>\n      <td>41.0</td>\n      <td>160.07</td>\n      <td>100.0</td>\n      <td>1.6007</td>\n      <td>NaN</td>\n      <td>NaN</td>\n      <td>9.872604</td>\n      <td>0.640752</td>\n      <td>NaN</td>\n      <td>NaN</td>\n    </tr>\n    <tr>\n      <th>10</th>\n      <td>11.0</td>\n      <td>48.0</td>\n      <td>43.9</td>\n      <td>162.28</td>\n      <td>100.0</td>\n      <td>1.6228</td>\n      <td>NaN</td>\n      <td>NaN</td>\n      <td>9.846655</td>\n      <td>0.656836</td>\n      <td>NaN</td>\n      <td>NaN</td>\n    </tr>\n    <tr>\n      <th>11</th>\n      <td>12.0</td>\n      <td>13.0</td>\n      <td>11.6</td>\n      <td>177.69</td>\n      <td>100.0</td>\n      <td>1.7769</td>\n      <td>NaN</td>\n      <td>NaN</td>\n      <td>9.930036</td>\n      <td>0.794173</td>\n      <td>NaN</td>\n      <td>NaN</td>\n    </tr>\n  </tbody>\n</table>\n</div>"
     },
     "execution_count": 73,
     "metadata": {},
     "output_type": "execute_result"
    }
   ],
   "source": [
    "time_from_a"
   ],
   "metadata": {
    "collapsed": false,
    "pycharm": {
     "name": "#%%\n"
    }
   }
  },
  {
   "cell_type": "code",
   "execution_count": 101,
   "outputs": [
    {
     "data": {
      "text/plain": "[<matplotlib.lines.Line2D at 0x7fa37b563460>]"
     },
     "execution_count": 101,
     "metadata": {},
     "output_type": "execute_result"
    },
    {
     "data": {
      "text/plain": "<Figure size 432x288 with 1 Axes>",
      "image/png": "[encoded data removed]"
     },
     "metadata": {
      "needs_background": "light"
     },
     "output_type": "display_data"
    }
   ],
   "source": [
    "df = time_from_a\n",
    "T = df[\"T1, с\"]\n",
    "a = df[\"a, см\"]/100\n",
    "xc = df[\"x_цм, см\"]/100\n",
    "plt.plot(a**2, T ** 2 * a, 'o')"
   ],
   "metadata": {
    "collapsed": false,
    "pycharm": {
     "name": "#%%\n"
    }
   }
  },
  {
   "cell_type": "code",
   "execution_count": 75,
   "outputs": [
    {
     "name": "stdout",
     "output_type": "stream",
     "text": [
      "[ 0.03673763 30.80323483]\n",
      "[8.08666998e-05 1.00564469e-01]\n"
     ]
    }
   ],
   "source": [
    "def line(x, k, b):\n",
    "    return k*x+b\n",
    "\n",
    "popt, pcov = curve_fit(line, a**2, T**2*xc)\n",
    "print(popt)\n",
    "print(np.sqrt(np.diag(pcov)))"
   ],
   "metadata": {
    "collapsed": false,
    "pycharm": {
     "name": "#%%\n"
    }
   }
  },
  {
   "cell_type": "code",
   "execution_count": 76,
   "outputs": [
    {
     "data": {
      "text/plain": "[<matplotlib.lines.Line2D at 0x7fa37bbf1d00>]"
     },
     "execution_count": 76,
     "metadata": {},
     "output_type": "execute_result"
    },
    {
     "data": {
      "text/plain": "<Figure size 432x288 with 1 Axes>",
      "image/png": "[encoded data removed]"
     },
     "metadata": {
      "needs_background": "light"
     },
     "output_type": "display_data"
    }
   ],
   "source": [
    "plt.plot(a**2, T ** 2 * xc, 'o')\n",
    "plt.plot(np.linspace(0, 2600), line(np.linspace(0, 2600), *popt))"
   ],
   "metadata": {
    "collapsed": false,
    "pycharm": {
     "name": "#%%\n"
    }
   }
  },
  {
   "cell_type": "code",
   "execution_count": 77,
   "outputs": [
    {
     "data": {
      "text/plain": "987.6643674652214"
     },
     "execution_count": 77,
     "metadata": {},
     "output_type": "execute_result"
    }
   ],
   "source": [
    "4*np.pi**2/popt[0]/1.08802574120892"
   ],
   "metadata": {
    "collapsed": false,
    "pycharm": {
     "name": "#%%\n"
    }
   }
  },
  {
   "cell_type": "code",
   "execution_count": 78,
   "outputs": [
    {
     "data": {
      "text/plain": "488191.2286735734"
     },
     "execution_count": 78,
     "metadata": {},
     "output_type": "execute_result"
    }
   ],
   "source": [
    "0.03673763/8.08666998e-05*4*np.pi**2/popt[0]"
   ],
   "metadata": {
    "collapsed": false,
    "pycharm": {
     "name": "#%%\n"
    }
   }
  },
  {
   "cell_type": "code",
   "execution_count": 79,
   "outputs": [
    {
     "data": {
      "text/plain": "2.1740421988834604"
     },
     "execution_count": 79,
     "metadata": {},
     "output_type": "execute_result"
    }
   ],
   "source": [
    "8.08666998e-05/0.03673763*4*np.pi**2/popt[0]/1.08802574120892\n"
   ],
   "metadata": {
    "collapsed": false,
    "pycharm": {
     "name": "#%%\n"
    }
   }
  },
  {
   "cell_type": "code",
   "execution_count": 79,
   "outputs": [],
   "source": [],
   "metadata": {
    "collapsed": false,
    "pycharm": {
     "name": "#%%\n"
    }
   }
  },
  {
   "cell_type": "code",
   "execution_count": 149,
   "outputs": [
    {
     "name": "stdout",
     "output_type": "stream",
     "text": [
      "3.672112074979092 0.015203034989722574\n",
      "0.30825715936995646 0.0017275667820067023\n"
     ]
    },
    {
     "data": {
      "text/plain": "<Figure size 576x432 with 1 Axes>",
      "image/png": "[encoded data removed]"
     },
     "metadata": {
      "needs_background": "light"
     },
     "output_type": "display_data"
    }
   ],
   "source": [
    "x = a**2\n",
    "y = T ** 2 * xc\n",
    "xerr = 2*a*0.1/100\n",
    "yerr = np.abs(y*(2*0.1/100/T + 0.1/100/xc))\n",
    "\n",
    "#simple approximation\n",
    "i = 100\n",
    "def f(x, k, b):\n",
    "    return b + k * x\n",
    "\n",
    "from scipy.optimize import curve_fit\n",
    "popt, pcov = curve_fit(f, x, y, sigma=yerr, absolute_sigma=True)\n",
    "error = np.sqrt(np.diag(pcov))\n",
    "for v, er in zip(popt, error):\n",
    "    print(v, er)\n",
    "\n",
    "plt.figure(figsize=(8, 6))\n",
    "plt.errorbar(x, y, fmt=\"o\", xerr=xerr, yerr=yerr, ms=1, capsize=1, label=\"экспериментальные данный\")\n",
    "X = np.linspace(x.min(), x.max(), num=50)\n",
    "pres = '0.3f'   # точность при форматировании\n",
    "plt.plot(X, f(X, *popt), 'r', linewidth=.8, label=\n",
    "f\"аппроксимация с параметром\\n k = {format(popt[0], pres)} $\\pm$ {format(error[0], pres)}\")\n",
    "\n",
    "plt.grid(True)\n",
    "plt.xlabel(r\"$a^2, м^2$\")\n",
    "plt.ylabel(r\"$T^2\\cdot x_{ц}$, $с^2$м\")\n",
    "# plt.title(r\"$y(x)$\")\n",
    "plt.legend()\n",
    "\n",
    "plt.savefig(f\"graph.png\", dpi=200)\n",
    "i+=1"
   ],
   "metadata": {
    "collapsed": false,
    "pycharm": {
     "name": "#%%\n"
    }
   }
  },
  {
   "cell_type": "code",
   "execution_count": 99,
   "outputs": [
    {
     "name": "stdout",
     "output_type": "stream",
     "text": [
      "3.2,3.8000000000000003,4.4,5.0,5.6000000000000005,6.2,6.800000000000001,7.800000000000001,8.4,9.0,9.600000000000001,2.6\n",
      "0.32584050000000003,0.3113600000000001,0.30576000000000003,0.30587559599999997,0.311549056,0.32047047600000006,0.331604784,0.35470028900000006,0.370314741,0.38748144900000003,0.4058298240000001,0.3569614409999999\n"
     ]
    },
    {
     "data": {
      "text/plain": "101"
     },
     "execution_count": 99,
     "metadata": {},
     "output_type": "execute_result"
    }
   ],
   "source": [
    "print(*xerr, sep=',')\n",
    "print(*yerr, sep=',')\n",
    "i"
   ],
   "metadata": {
    "collapsed": false,
    "pycharm": {
     "name": "#%%\n"
    }
   }
  },
  {
   "cell_type": "code",
   "execution_count": 133,
   "outputs": [
    {
     "data": {
      "text/plain": "[<matplotlib.lines.Line2D at 0x7fa37b321820>]"
     },
     "execution_count": 133,
     "metadata": {},
     "output_type": "execute_result"
    },
    {
     "data": {
      "text/plain": "<Figure size 432x288 with 1 Axes>",
      "image/png": "[encoded data removed]"
     },
     "metadata": {
      "needs_background": "light"
     },
     "output_type": "display_data"
    }
   ],
   "source": [
    "np.max(yerr/y), np.max(xerr/x)\n",
    "\n",
    "plt.plot(xerr/x)\n",
    "plt.plot(yerr/y)"
   ],
   "metadata": {
    "collapsed": false,
    "pycharm": {
     "name": "#%%\n"
    }
   }
  },
  {
   "cell_type": "code",
   "execution_count": 134,
   "outputs": [
    {
     "data": {
      "text/plain": "[<matplotlib.lines.Line2D at 0x7fa37b54ec40>]"
     },
     "execution_count": 134,
     "metadata": {},
     "output_type": "execute_result"
    },
    {
     "data": {
      "text/plain": "<Figure size 432x288 with 1 Axes>",
      "image/png": "[encoded data removed]"
     },
     "metadata": {
      "needs_background": "light"
     },
     "output_type": "display_data"
    }
   ],
   "source": [
    "g = 4 * np.pi ** 2 / (y * 1.08802574120892) * (1 / 12 + a ** 2)\n",
    "plt.plot(g)"
   ],
   "metadata": {
    "collapsed": false,
    "pycharm": {
     "name": "#%%\n"
    }
   }
  },
  {
   "cell_type": "code",
   "execution_count": 138,
   "outputs": [
    {
     "data": {
      "text/plain": "[<matplotlib.lines.Line2D at 0x7fa37b6d8070>]"
     },
     "execution_count": 138,
     "metadata": {},
     "output_type": "execute_result"
    },
    {
     "data": {
      "text/plain": "<Figure size 432x288 with 1 Axes>",
      "image/png": "[encoded data removed]"
     },
     "metadata": {
      "needs_background": "light"
     },
     "output_type": "display_data"
    }
   ],
   "source": [
    "gerr = g*(yerr/2/y + 2*a*0.05/100/(1/12 + a**2))\n",
    "plt.plot(gerr)"
   ],
   "metadata": {
    "collapsed": false,
    "pycharm": {
     "name": "#%%\n"
    }
   }
  },
  {
   "cell_type": "code",
   "execution_count": 136,
   "outputs": [
    {
     "data": {
      "text/plain": "9.848712241244153"
     },
     "execution_count": 136,
     "metadata": {},
     "output_type": "execute_result"
    }
   ],
   "source": [
    "np.average(g, weights=1/gerr**2)\n"
   ],
   "metadata": {
    "collapsed": false,
    "pycharm": {
     "name": "#%%\n"
    }
   }
  },
  {
   "cell_type": "code",
   "execution_count": 139,
   "outputs": [
    {
     "data": {
      "text/plain": "0.011825744018474277"
     },
     "execution_count": 139,
     "metadata": {},
     "output_type": "execute_result"
    }
   ],
   "source": [
    "1/np.sqrt(np.sum(1/gerr**2))\n"
   ],
   "metadata": {
    "collapsed": false,
    "pycharm": {
     "name": "#%%\n"
    }
   }
  },
  {
   "cell_type": "code",
   "execution_count": 145,
   "outputs": [
    {
     "data": {
      "text/plain": "9.876643674046091"
     },
     "execution_count": 145,
     "metadata": {},
     "output_type": "execute_result"
    }
   ],
   "source": [
    "gline = 4*np.pi**2/(3.673763378989862 * 1.08802574120892)\n",
    "gline"
   ],
   "metadata": {
    "collapsed": false,
    "pycharm": {
     "name": "#%%\n"
    }
   }
  },
  {
   "cell_type": "code",
   "execution_count": 146,
   "outputs": [
    {
     "data": {
      "text/plain": "0.02174041971054119"
     },
     "execution_count": 146,
     "metadata": {},
     "output_type": "execute_result"
    }
   ],
   "source": [
    "dg = gline*(0.008086669967282134/3.673763378989862)\n",
    "dg"
   ],
   "metadata": {
    "collapsed": false,
    "pycharm": {
     "name": "#%%\n"
    }
   }
  },
  {
   "cell_type": "code",
   "execution_count": 147,
   "outputs": [
    {
     "data": {
      "text/plain": "[<matplotlib.lines.Line2D at 0x7fa37b907f40>]"
     },
     "execution_count": 147,
     "metadata": {},
     "output_type": "execute_result"
    },
    {
     "data": {
      "text/plain": "<Figure size 432x288 with 1 Axes>",
      "image/png": "[encoded data removed]"
     },
     "metadata": {
      "needs_background": "light"
     },
     "output_type": "display_data"
    }
   ],
   "source": [
    "plt.plot(xerr/x, 'o')\n",
    "plt.plot(yerr/y, 'o')\n"
   ],
   "metadata": {
    "collapsed": false,
    "pycharm": {
     "name": "#%%\n"
    }
   }
  }
 ],
 "metadata": {
  "kernelspec": {
   "display_name": "Python 3",
   "language": "python",
   "name": "python3"
  },
  "language_info": {
   "codemirror_mode": {
    "name": "ipython",
    "version": 2
   },
   "file_extension": ".py",
   "mimetype": "text/x-python",
   "name": "python",
   "nbconvert_exporter": "python",
   "pygments_lexer": "ipython2",
   "version": "2.7.6"
  }
 },
 "nbformat": 4,
 "nbformat_minor": 0
}
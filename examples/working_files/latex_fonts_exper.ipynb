{
 "cells": [
  {
   "cell_type": "code",
   "execution_count": 1,
   "metadata": {
    "collapsed": true
   },
   "outputs": [],
   "source": [
    "import numpy as np\n",
    "import matplotlib.pyplot as plt\n",
    "import pandas as pd\n",
    "imNum = 20\n",
    "#switching latex fonts\n",
    "# plt.rcParams.update({\n",
    "#     \"text.usetex\": True,\n",
    "#     \"font.family\": \"sans-serif\",\n",
    "#     \"font.sans-serif\": [\"Helvetica\"]})\n",
    "# plt.rcParams.update({\n",
    "#     \"text.usetex\": False,\n",
    "#     \"font.family\": 'fantasy',\n",
    "#     \"font.fantasy\": ['Arial', 'Times New Roman', 'Tahoma']})\n",
    "plt.rcParams.update({\n",
    "    \"figure.figsize\": (16, 10)\n",
    "})\n",
    "\n",
    "# необходимые функции\n",
    "\n",
    "def err_pres_formatter(value, error):\n",
    "    \"\"\"Rounds value and it's error according to scientific conventions\"\"\"\n",
    "    first_digit = (np.array(error/10**np.floor(np.log10(error)), dtype=\"int\"))\n",
    "    first_digit_position = np.array(np.floor(np.log10(error)), dtype=\"int\")\n",
    "    ndigits = 1\n",
    "    if first_digit == 1:\n",
    "        ndigits += 1\n",
    "    power = np.log10(value)\n",
    "    if abs(power//3) >= 1:\n",
    "        power = 3*int(power//3)\n",
    "        value /= 10**power\n",
    "        error /= 10**power\n",
    "        digit_number = -first_digit_position + ndigits+power-1\n",
    "        if digit_number <= 0:\n",
    "            return f\"({int(value, digit_number)} \\u00B1 {int(error, digit_number)})$\\cdot 10^{{{power}}}$\"\n",
    "        return f\"({round(value, digit_number)} \\u00B1 {round(error, digit_number)})$\\cdot 10^{{{power}}}$\"\n",
    "    digit_number = -first_digit_position + ndigits-1\n",
    "    if digit_number <= 0:\n",
    "        return f\"{int(value, digit_number)} \\u00B1 {int(error, digit_number)}\"\n",
    "    return f\"{round(value, digit_number)} \\u00B1 {round(error, digit_number)}\"\n",
    "\n",
    "\n",
    "def lower_upper_limits(domain, fun, popt, pcov, nsigma=1):\n",
    "    '''Вычисляет минимальные и максимальные значения функции \n",
    "    при заданных парамерах и стандартных отклонениях\n",
    "    в пределах nsigma*стандартное отклонение\n",
    "    Возвращает:\n",
    "    minA :(np.array) - массив минимальных значений\n",
    "    maxA :(np.array) - массив максимальных значений'''\n",
    "    err = np.sqrt(np.diag(pcov))\n",
    "    corr = pcov /np.expand_dims(err, 1) / np.expand_dims(err, 0)\n",
    "    deviations = np.eye(popt.size)*np.expand_dims(err, 1)  \n",
    "    df = np.expand_dims(fun(domain, *popt), 1) - fun(np.expand_dims(X, 1), *(np.expand_dims(popt, 1)+np.eye(popt.size)*np.expand_dims(err, 1)))\n",
    "    dfmatrixes = np.expand_dims(df, 1)*np.expand_dims(df, 2) * np.expand_dims(corr, 0)\n",
    "    sigm_f = np.sqrt(np.sum(dfmatrixes, axis=(1, 2)))\n",
    "    return (fun(domain, *popt)-nsigma*sigm_f, fun(domain, *popt)+nsigma*sigm_f)"
   ]
  },
  {
   "cell_type": "code",
   "execution_count": 14,
   "outputs": [],
   "source": [
    "plt.rcParams.update({\n",
    "    \"text.usetex\" : True,\n",
    "    \"font.family\" : \"serif\",\n",
    "    \"font.serif\" : \"Computer Modern\",\n",
    "    \"text.latex.preamble\" : r'\\usepackage{amsmath} \\usepackage{mathtext} \\usepackage[english, russian]{babel}'\n",
    "})"
   ],
   "metadata": {
    "collapsed": false,
    "pycharm": {
     "name": "#%%\n"
    }
   }
  },
  {
   "cell_type": "code",
   "execution_count": 32,
   "metadata": {},
   "outputs": [],
   "source": [
    "from matplotlib import rc\n",
    "rc('font',**{'family':'serif'})\n",
    "rc('text', usetex=True)\n",
    "# rc('text.latex',unicode=True)\n",
    "rc('text.latex',preamble=r'''\\usepackage[utf8]{inputenc} \\usepackage[russian]{babel} \\usepackage{amsmath} \\usepackage{mathtext}''')\n",
    "# rc('text.latex',preamble=r'\\usepackage[warn]{mathtext}')\n"
   ]
  },
  {
   "cell_type": "code",
   "execution_count": 4,
   "metadata": {
    "collapsed": false,
    "pycharm": {
     "name": "#%%\n"
    }
   },
   "outputs": [],
   "source": [
    "#ВВод данных\n",
    "x = np.array([\n",
    "256.0,361.0,484.0,625.0,784.0,961.0,1156.0,1521.0,1764.0,2025.0,2304.0,169.0\n",
    "])\n",
    "y = np.array([\n",
    "40.474485,44.28800000000001,48.672000000000004,53.59786801199999,59.56816728,66.195521388,73.25249903999999,86.71392784400001,95.503225823,105.05186009,115.60976497600001,36.62553387599999\n",
    "])\n",
    "xerr = np.array([\n",
    "32.0,38.0,44.0,50.0,56.0,62.0,68.0,78.0,84.0,90.0,96.0,26.0\n",
    "])\n",
    "yerr = np.array([\n",
    "3.2584050000000007,3.113600000000001,3.0576000000000003,3.05875596,3.1154905600000005,3.2047047600000003,3.3160478399999995,3.5470028900000004,3.70314741,3.8748144900000008,4.058298240000001,3.569614409999999\n",
    "])\n"
   ]
  },
  {
   "cell_type": "code",
   "execution_count": 15,
   "metadata": {
    "collapsed": false,
    "pycharm": {
     "name": "#%%\n"
    }
   },
   "outputs": [
    {
     "name": "stdout",
     "output_type": "stream",
     "text": [
      "0.03672112074944038 +- 0.001520303510828269\n",
      "30.825715938287157 +- 1.7275667911026313\n"
     ]
    },
    {
     "data": {
      "text/plain": "<Figure size 576x432 with 1 Axes>",
      "image/png": "[encoded data removed]"
     },
     "metadata": {
      "needs_background": "light"
     },
     "output_type": "display_data"
    }
   ],
   "source": [
    "#xi square approximation with Y-errors\n",
    "%matplotlib inline\n",
    "# пользовательские параметры. Переменные x, y, xerr, yerr дожны содержать данные\n",
    "''' также необходимо изменить\n",
    "название осей с размерностями, \n",
    "нагвание графика, \n",
    "название функции ,\n",
    "набор параметров с размерностями через запятую '''\n",
    "visApproxError = True   # рисовать ли область ошибки аппроксимации\n",
    "par_names = r'''\n",
    "k, $\\frac{\\text{кг}}{\\text{см}}$\n",
    "b, кг\n",
    "'''\n",
    "# function to approximate\n",
    "fun_name = \"$f(x) = kx + b$\"\n",
    "def f(x, k, b):\n",
    "    return b + k * x\n",
    "# конец пользовательских параметров\n",
    "\n",
    "from scipy.optimize import curve_fit\n",
    "popt, pcov = curve_fit(f, x, y, sigma=yerr, absolute_sigma=True)\n",
    "err = np.sqrt(np.diag(pcov))\n",
    "for v, er in zip(popt, err):\n",
    "    print(v,'+-',er)\n",
    "\n",
    "approx_label = f\"аппроксимация функцией {fun_name}\"\n",
    "par_names = [x.split(', ') for x in par_names.strip().split(\"\\n\")]\n",
    "for i in range(len(par_names)):\n",
    "    name, units = par_names[i]\n",
    "    tup = err_pres_formatter(popt[i], err[i])\n",
    "    approx_label += f\"\\n{name} = {err_pres_formatter(popt[i], err[i])} {units}\"\n",
    "    \n",
    "\n",
    "plt.figure(figsize=(8, 6))\n",
    "plt.errorbar(x, y, fmt=\"o\", xerr=xerr, yerr=yerr, label=\"экспериментальные данные\", capsize=4, ms=6)\n",
    "teorPoints = 50     \n",
    "intent = 0.05   # отступ по бокам от обласи экспериментальных данных\n",
    "a, b = x.min(), x.max()\n",
    "X = np.linspace(a-(b-a)*intent, b+(b-a)*intent, num=teorPoints)\n",
    "plt.plot(X, f(X, *popt), 'r', label=approx_label)\n",
    "if visApproxError:\n",
    "    nsigma = 2\n",
    "    minA, maxA = lower_upper_limits(X, f, popt, pcov, nsigma=nsigma)\n",
    "    plt.fill_between(X, minA, maxA, alpha=0.4, label=f\"облсть {nsigma} $\\sigma$ ошибки\")\n",
    "\n",
    "plt.grid(True)\n",
    "plt.xlabel(r\"$x$, см\")\n",
    "plt.ylabel(r\"$y$, кг\")\n",
    "plt.title(r'\\TeX\\ is Number $\\displaystyle\\sum_{n=1}^\\infty \\frac{-e^{i\\pi}}{2^n}$!')\n",
    "plt.legend()\n",
    "\n",
    "plt.savefig(f\"{imNum}.png\", dpi=300)\n",
    "imNum+=1"
   ]
  },
  {
   "cell_type": "code",
   "execution_count": null,
   "metadata": {
    "collapsed": false,
    "pycharm": {
     "name": "#%%\n"
    }
   },
   "outputs": [],
   "source": [
    "#simple visualization\n",
    "plt.figure(figsize=(8, 6))\n",
    "plt.plot(x, y, 'o', label=\"experimental data\")\n",
    "plt.grid(True)\n",
    "plt.xlabel(r\"$x$\")\n",
    "plt.ylabel(r\"$y$\")\n",
    "plt.title(r\"$y(x)$\")\n",
    "\n",
    "plt.legend()\n",
    "\n",
    "plt.savefig(f\"viz{i}.png\", dpi=200)\n",
    "i+=1"
   ]
  },
  {
   "cell_type": "code",
   "execution_count": null,
   "metadata": {
    "collapsed": false,
    "pycharm": {
     "name": "#%%\n"
    }
   },
   "outputs": [],
   "source": [
    "#simple approximation without data errors\n",
    "\n",
    "\n",
    "# function to approximate\n",
    "def f(x, k, b):\n",
    "    return b + k * x\n",
    "\n",
    "from scipy.optimize import curve_fit\n",
    "popt, pcov = curve_fit(f, x, y)\n",
    "err = np.sqrt(np.diag(pcov))\n",
    "for v, er in zip(popt, err):\n",
    "    print(v, er)\n",
    "\n",
    "plt.figure(figsize=(8, 6))\n",
    "plt.errorbar(x, y, fmt=\"o\", xerr=xerr, yerr=yerr, label=\"экспериментальные данный\", capsize=4, ms=6)\n",
    "X = np.linspace(x.min(), x.max(), num=50)\n",
    "plt.plot(X, f(X, *popt), 'r', label=\n",
    "\"аппроксимация с параметром\\n k = {} $\\pm$ {}\".format(*err_pres_formatter(popt[0], err[0])))\n",
    "\n",
    "plt.grid(True)\n",
    "plt.xlabel(r\"$x$, см\")\n",
    "plt.ylabel(r\"$y$, кг\")\n",
    "plt.title(r\"$y(x)$\")\n",
    "plt.legend()\n",
    "\n",
    "plt.savefig(f\"opt{i}.png\", dpi=200)\n",
    "i+=1"
   ]
  },
  {
   "cell_type": "code",
   "execution_count": null,
   "metadata": {},
   "outputs": [],
   "source": []
  }
 ],
 "metadata": {
  "interpreter": {
   "hash": "edcff9377e773033c0414e81a83c2d270bb77d0bb1648cda28b0e21e44a58f83"
  },
  "kernelspec": {
   "display_name": "Python 3.9.7 64-bit ('LabDataEnv': conda)",
   "name": "python3"
  },
  "language_info": {
   "codemirror_mode": {
    "name": "ipython",
    "version": 3
   },
   "file_extension": ".py",
   "mimetype": "text/x-python",
   "name": "python",
   "nbconvert_exporter": "python",
   "pygments_lexer": "ipython3",
   "version": "3.9.7"
  }
 },
 "nbformat": 4,
 "nbformat_minor": 0
}
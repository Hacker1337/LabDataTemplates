{
 "cells": [
  {
   "cell_type": "code",
   "execution_count": 16,
   "metadata": {
    "collapsed": true
   },
   "outputs": [],
   "source": [
    "import os\n",
    "import numpy as np\n",
    "import matplotlib.pyplot as plt\n",
    "import pandas as pd\n",
    "from scipy.optimize import curve_fit\n",
    "\n",
    "from datetime import datetime\n",
    "def time_string():\n",
    "    # return datetime.now().strftime(\"%d %B %Y %X\")\n",
    "    return datetime.now().strftime(\"%X\")\n",
    "impath = 'trash_img'    # путь к папке, в которой будут сохраняться картинки\n",
    "#switching latex fonts\n",
    "plt.rcParams.update({\n",
    "    \"text.usetex\" : True,\n",
    "    \"font.family\" : \"serif\",\n",
    "    \"font.serif\" : \"Computer Modern\",\n",
    "    \"text.latex.preamble\" : r'\\usepackage{amsmath} \\usepackage{mathtext} \\usepackage[english, russian]{babel}'\n",
    "})\n",
    "plt.rcParams.update({\n",
    "    \"figure.figsize\": (8, 6),\n",
    "    'figure.dpi': 200\n",
    "})\n",
    "\n",
    "# необходимые функции\n",
    "\n",
    "def err_pres_formatter(value, error):\n",
    "    \"\"\"Rounds value and it's error according to scientific conventions\"\"\"\n",
    "    first_digit = (np.array(error/10**np.floor(np.log10(error)), dtype=\"int\"))\n",
    "    first_digit_position = np.array(np.floor(np.log10(error)), dtype=\"int\")\n",
    "    ndigits = 1\n",
    "    if first_digit == 1:\n",
    "        ndigits += 1\n",
    "    power = np.log10(abs(value))\n",
    "    if abs(power//3) >= 1:\n",
    "        power = 3*int(power//3)\n",
    "        value /= 10**power\n",
    "        error /= 10**power\n",
    "        digit_number = -first_digit_position + ndigits+power-1\n",
    "        if digit_number <= 0:\n",
    "            return f\"({round(int(value), digit_number)} \\u00B1 {round(int(error), digit_number)})$\\cdot 10^{{{power}}}$\"\n",
    "        return f\"({round(value, digit_number)} \\u00B1 {round(error, digit_number)})$\\cdot 10^{{{power}}}$\"\n",
    "    digit_number = -first_digit_position + ndigits-1\n",
    "    if digit_number <= 0:\n",
    "        return f\"{round(int(value), digit_number)} \\u00B1 {round(int(error), digit_number)}\"\n",
    "    return f\"{round(value, digit_number)} \\u00B1 {round(error, digit_number)}\"\n",
    "\n",
    "\n",
    "def lower_upper_limits(domain, fun, popt, pcov, nsigma=1):\n",
    "    '''Вычисляет минимальные и максимальные значения функции \n",
    "    при заданных парамерах и стандартных отклонениях\n",
    "    в пределах nsigma*стандартное отклонение\n",
    "    Возвращает:\n",
    "    minA :(np.array) - массив минимальных значений\n",
    "    maxA :(np.array) - массив максимальных значений'''\n",
    "    err = np.sqrt(np.diag(pcov))\n",
    "    corr = pcov /np.expand_dims(err, 1) / np.expand_dims(err, 0)\n",
    "    deviations = np.eye(popt.size)*np.expand_dims(err, 1)  \n",
    "    df = np.expand_dims(fun(domain, *popt), 1) - fun(np.expand_dims(domain, 1), *(np.expand_dims(popt, 1)+np.eye(popt.size)*np.expand_dims(err, 1)))\n",
    "    dfmatrixes = np.expand_dims(df, 1)*np.expand_dims(df, 2) * np.expand_dims(corr, 0)\n",
    "    sigm_f = np.sqrt(np.sum(dfmatrixes, axis=(1, 2)))\n",
    "    return (fun(domain, *popt)-nsigma*sigm_f, fun(domain, *popt)+nsigma*sigm_f)\n",
    "\n",
    "def plot_approx(x, y, f, par_names_str, fun_name, yerr=None, visApproxError=True, p0=None):\n",
    "    if yerr is not None:\n",
    "        popt, pcov = curve_fit(f, x, y, sigma=yerr, absolute_sigma=True, p0=p0)\n",
    "    else:\n",
    "        popt, pcov = curve_fit(f, x, y, p0=p0)\n",
    "    err = np.sqrt(np.diag(pcov))\n",
    "    for v, er in zip(popt, err):\n",
    "        print(v,'+-',er)\n",
    "    approx_label = f\"аппроксимация функцией {fun_name}\"\n",
    "    if (err == np.inf).any():\n",
    "        print('Аппроксимация не сошлась. Попробуй задать начальные параметры p0')\n",
    "    else:\n",
    "        par_names = [x.split(',') for x in par_names_str.strip().split(\"\\n\") if (len(x) != 0)]\n",
    "        for i in range(len(par_names)):\n",
    "            t = par_names[i]\n",
    "            if len(t) == 2:\n",
    "                name, units = t\n",
    "            else:\n",
    "                name, units = *t, ''\n",
    "            approx_label += f\"\\n{name} = {err_pres_formatter(popt[i], err[i])} {units}\"\n",
    "    teorPoints = 50     \n",
    "    intent = 0.05   # отступ по бокам от обласи экспериментальных данных\n",
    "    a, b = x.min(), x.max()\n",
    "    X = np.linspace(a-(b-a)*intent, b+(b-a)*intent, num=teorPoints)\n",
    "    plt.plot(X, f(X, *popt), 'r', label=approx_label)\n",
    "    if visApproxError and (pcov != np.inf).all():\n",
    "        nsigma = 2\n",
    "        minA, maxA = lower_upper_limits(X, f, popt, pcov, nsigma=nsigma)\n",
    "        plt.fill_between(X, minA, maxA, alpha=0.4, label=f\"область {nsigma} $\\sigma$ ошибки\")\n",
    "\n",
    "def make_beautiful_plot(xname, xunit, yname, yunit):\n",
    "    plt.grid(True, which='minor', linewidth=0.2)\n",
    "    plt.grid(True, which='major')\n",
    "    plt.xlabel(fr\"{xname}, {xunit}\")\n",
    "    plt.ylabel(fr\"{yname}, {yunit}\")\n",
    "    plt.title(fr\"{yname}({xname})\")\n",
    "    plt.legend()"
   ]
  },
  {
   "cell_type": "code",
   "execution_count": 17,
   "metadata": {},
   "outputs": [
    {
     "data": {
      "text/html": [
       "<div>\n",
       "<style scoped>\n",
       "    .dataframe tbody tr th:only-of-type {\n",
       "        vertical-align: middle;\n",
       "    }\n",
       "\n",
       "    .dataframe tbody tr th {\n",
       "        vertical-align: top;\n",
       "    }\n",
       "\n",
       "    .dataframe thead th {\n",
       "        text-align: right;\n",
       "    }\n",
       "</style>\n",
       "<table border=\"1\" class=\"dataframe\">\n",
       "  <thead>\n",
       "    <tr style=\"text-align: right;\">\n",
       "      <th></th>\n",
       "      <th>Q, мВт</th>\n",
       "      <th>R, $\\Omega$</th>\n",
       "      <th>калоримерт</th>\n",
       "      <th>R, om</th>\n",
       "      <th>t, c</th>\n",
       "      <th>первое тело</th>\n",
       "      <th>R, om.1</th>\n",
       "      <th>t, c.1</th>\n",
       "      <th>второе тело</th>\n",
       "      <th>R, om.2</th>\n",
       "      <th>t, c.2</th>\n",
       "      <th>третье тело</th>\n",
       "    </tr>\n",
       "  </thead>\n",
       "  <tbody>\n",
       "    <tr>\n",
       "      <th>0</th>\n",
       "      <td>0.000249</td>\n",
       "      <td>16.735029</td>\n",
       "      <td>NaN</td>\n",
       "      <td>10.0</td>\n",
       "      <td>1.0</td>\n",
       "      <td>NaN</td>\n",
       "      <td>NaN</td>\n",
       "      <td>NaN</td>\n",
       "      <td>NaN</td>\n",
       "      <td>NaN</td>\n",
       "      <td>NaN</td>\n",
       "      <td>NaN</td>\n",
       "    </tr>\n",
       "    <tr>\n",
       "      <th>1</th>\n",
       "      <td>4.446031</td>\n",
       "      <td>16.812200</td>\n",
       "      <td>NaN</td>\n",
       "      <td>11.0</td>\n",
       "      <td>3.0</td>\n",
       "      <td>NaN</td>\n",
       "      <td>NaN</td>\n",
       "      <td>NaN</td>\n",
       "      <td>NaN</td>\n",
       "      <td>NaN</td>\n",
       "      <td>NaN</td>\n",
       "      <td>NaN</td>\n",
       "    </tr>\n",
       "    <tr>\n",
       "      <th>2</th>\n",
       "      <td>9.670230</td>\n",
       "      <td>16.853135</td>\n",
       "      <td>NaN</td>\n",
       "      <td>12.0</td>\n",
       "      <td>4.0</td>\n",
       "      <td>NaN</td>\n",
       "      <td>NaN</td>\n",
       "      <td>NaN</td>\n",
       "      <td>NaN</td>\n",
       "      <td>NaN</td>\n",
       "      <td>NaN</td>\n",
       "      <td>NaN</td>\n",
       "    </tr>\n",
       "    <tr>\n",
       "      <th>3</th>\n",
       "      <td>19.561403</td>\n",
       "      <td>16.926607</td>\n",
       "      <td>NaN</td>\n",
       "      <td>13.0</td>\n",
       "      <td>5.0</td>\n",
       "      <td>NaN</td>\n",
       "      <td>NaN</td>\n",
       "      <td>NaN</td>\n",
       "      <td>NaN</td>\n",
       "      <td>NaN</td>\n",
       "      <td>NaN</td>\n",
       "      <td>NaN</td>\n",
       "    </tr>\n",
       "    <tr>\n",
       "      <th>4</th>\n",
       "      <td>32.830711</td>\n",
       "      <td>17.030702</td>\n",
       "      <td>NaN</td>\n",
       "      <td>14.0</td>\n",
       "      <td>6.0</td>\n",
       "      <td>NaN</td>\n",
       "      <td>NaN</td>\n",
       "      <td>NaN</td>\n",
       "      <td>NaN</td>\n",
       "      <td>NaN</td>\n",
       "      <td>NaN</td>\n",
       "      <td>NaN</td>\n",
       "    </tr>\n",
       "  </tbody>\n",
       "</table>\n",
       "</div>"
      ],
      "text/plain": [
       "      Q, мВт  R, $\\Omega$  калоримерт  R, om  t, c  первое тело  R, om.1  \\\n",
       "0   0.000249    16.735029         NaN   10.0   1.0          NaN      NaN   \n",
       "1   4.446031    16.812200         NaN   11.0   3.0          NaN      NaN   \n",
       "2   9.670230    16.853135         NaN   12.0   4.0          NaN      NaN   \n",
       "3  19.561403    16.926607         NaN   13.0   5.0          NaN      NaN   \n",
       "4  32.830711    17.030702         NaN   14.0   6.0          NaN      NaN   \n",
       "\n",
       "   t, c.1  второе тело  R, om.2  t, c.2  третье тело  \n",
       "0     NaN          NaN      NaN     NaN          NaN  \n",
       "1     NaN          NaN      NaN     NaN          NaN  \n",
       "2     NaN          NaN      NaN     NaN          NaN  \n",
       "3     NaN          NaN      NaN     NaN          NaN  \n",
       "4     NaN          NaN      NaN     NaN          NaN  "
      ]
     },
     "execution_count": 17,
     "metadata": {},
     "output_type": "execute_result"
    }
   ],
   "source": [
    "#ВВод данных\n",
    "df = pd.read_excel(\"measurements.ods\", engine=\"odf\", sheet_name=0) # для таблиц ods (требуется установка pip install odfpy)\n",
    "# df = pd.read_excel(\"measurements.xls\")    # excel таблицы\n",
    "x = df.iloc[:, 0].dropna()\n",
    "y = df.iloc[:, 1].dropna()\n",
    "xerr = None; np.ones_like(x)*0.01\n",
    "yerr = np.ones_like(x)*0.01\n",
    "df.head()"
   ]
  },
  {
   "cell_type": "code",
   "execution_count": 18,
   "metadata": {},
   "outputs": [],
   "source": [
    "# параметры построения графика и аппроксмации прямой\n",
    "# пользовательские параметры. Переменные x, y, xerr, yerr дожны содержать данные\n",
    "''' также необходимо изменить\n",
    "название графика, \n",
    "название функции ,\n",
    "набор параметров с размерностями через запятую '''\n",
    "visApproxError = False   # рисовать ли область ошибки аппроксимации\n",
    "hasErrors = True\n",
    "# visApproxError*=hasErrors   # нельзя рисовать ошибки, если их нет)\n",
    "xname, xunit = r\"$x$\", \"\"\n",
    "yname, yunit = r\"$y$\", \"\"\n",
    "par_names_str = fr'''\n",
    "k, $\\frac{{{yunit.replace('$', '')}}}{{{xunit.replace('$', '')}}}$\n",
    "b, {yunit}\n",
    "'''\n",
    "# function to approximate\n",
    "fun_name = r\"$f(x) = kx + b$\"\n",
    "def f(x, k, b):\n",
    "    return b + k * x\n",
    "# конец пользовательских параметров"
   ]
  },
  {
   "cell_type": "code",
   "execution_count": 19,
   "metadata": {},
   "outputs": [
    {
     "name": "stdout",
     "output_type": "stream",
     "text": [
      "0.007399683801827412 +- 0.00010086004918993223\n",
      "16.77088871579943 +- 0.005188815240159652\n"
     ]
    },
    {
     "data": {
      "image/png": "[encoded data removed]",
      "text/plain": [
       "<Figure size 1600x1200 with 1 Axes>"
      ]
     },
     "metadata": {},
     "output_type": "display_data"
    }
   ],
   "source": [
    "# построение графика\n",
    "\n",
    "# аппроксимация\n",
    "plot_approx(x, y, f, par_names_str, fun_name, yerr=yerr, visApproxError=visApproxError)\n",
    "\n",
    "# экспериментальные точки\n",
    "plt.errorbar(x, y, fmt=\"o\", xerr=xerr, yerr=yerr, label=\"экспериментальные данные\", capsize=4, ms=6)\n",
    "\n",
    "make_beautiful_plot(xname, xunit, yname, yunit)\n",
    "\n",
    "if not os.path.exists(impath):\n",
    "    os.makedirs(impath)\n",
    "plt.savefig(os.path.join(impath, f\"{time_string()}.jpg\"), dpi=300)"
   ]
  },
  {
   "cell_type": "code",
   "execution_count": null,
   "metadata": {},
   "outputs": [],
   "source": []
  },
  {
   "cell_type": "code",
   "execution_count": 20,
   "metadata": {},
   "outputs": [],
   "source": [
    "# шаблон аппроксимации экспонентой\n",
    "# пользовательские параметры. Переменные x, y, xerr, yerr дожны содержать данные\n",
    "''' также необходимо изменить\n",
    "название графика, \n",
    "название функции,\n",
    "набор параметров с размерностями через запятую '''\n",
    "visApproxError = True   # рисовать ли область ошибки аппроксимации\n",
    "hasErrors = True\n",
    "# visApproxError*=hasErrors   # нельзя рисовать ошибки, если их нет)\n",
    "xname, xunit = r\"$t$\", \"с\"\n",
    "yname, yunit = r\"$h$\", \"см\"\n",
    "par_names_str = fr'''\n",
    "$f_0$, {yunit}\n",
    "$\\Delta f$, {yunit}\n",
    "$T_0$, {xunit}\n",
    "'''\n",
    "# function to approximate\n",
    "fun_name = r\"$f(x) = f_0 + \\Delta f e^{-x/T_0}$\"\n",
    "def f(x, f_0, df, T0):\n",
    "    return f_0 + df*np.exp(-x/T0)\n",
    "# конец пользовательских параметров\n",
    "p0 = [y[0], y.max()-y.min(), (x.max()-x.min())/8]   # адекватное начальное приближение параметров"
   ]
  },
  {
   "cell_type": "code",
   "execution_count": 21,
   "metadata": {
    "collapsed": false,
    "pycharm": {
     "name": "#%%\n"
    }
   },
   "outputs": [],
   "source": [
    "# параметры построения графика и аппроксмации относительно произвольной функцией\n",
    "# пользовательские параметры. Переменные x, y, xerr, yerr дожны содержать данные\n",
    "''' также необходимо изменить\n",
    "название графика,\n",
    "название функции ,\n",
    "набор параметров с размерностями через запятую '''\n",
    "visApproxError = True   # рисовать ли область ошибки аппроксимации\n",
    "hasErrors = True\n",
    "# visApproxError*=hasErrors   # нельзя рисовать ошибки, если их нет)\n",
    "par_names_str = r'''\n",
    "k,\n",
    "b,\n",
    "'''\n",
    "xname, xunit = r\"$x$\", \"\"\n",
    "yname, yunit = r\"$y$\", \"\"\n",
    "# function to approximate\n",
    "fun_name = r\"$f(x) = kx + b$\"\n",
    "def f(x, k, b):\n",
    "    return b + k * x\n",
    "# конец пользовательских параметров"
   ]
  },
  {
   "cell_type": "markdown",
   "metadata": {
    "collapsed": false
   },
   "source": [
    "# Блоки для добавления в ячейку построения графика"
   ]
  },
  {
   "cell_type": "code",
   "execution_count": 22,
   "metadata": {
    "collapsed": false,
    "pycharm": {
     "name": "#%%\n"
    }
   },
   "outputs": [
    {
     "ename": "TypeError",
     "evalue": "'NoneType' object is not subscriptable",
     "output_type": "error",
     "traceback": [
      "\u001b[0;31m---------------------------------------------------------------------------\u001b[0m",
      "\u001b[0;31mTypeError\u001b[0m                                 Traceback (most recent call last)",
      "Cell \u001b[0;32mIn [22], line 5\u001b[0m\n\u001b[1;32m      3\u001b[0m x \u001b[39m=\u001b[39m x[\u001b[39mfilter\u001b[39m]\n\u001b[1;32m      4\u001b[0m y \u001b[39m=\u001b[39m y[\u001b[39mfilter\u001b[39m]\n\u001b[0;32m----> 5\u001b[0m xerr \u001b[39m=\u001b[39m xerr[\u001b[39mfilter\u001b[39;49m]\n\u001b[1;32m      6\u001b[0m yerr \u001b[39m=\u001b[39m yerr[\u001b[39mfilter\u001b[39m]\n",
      "\u001b[0;31mTypeError\u001b[0m: 'NoneType' object is not subscriptable"
     ]
    }
   ],
   "source": [
    "# выбор поднабора для построения на графике и аппроксимации\n",
    "filter = x < 15000\n",
    "x = x[filter]\n",
    "y = y[filter]\n",
    "xerr = xerr[filter]\n",
    "yerr = yerr[filter]"
   ]
  },
  {
   "cell_type": "code",
   "execution_count": null,
   "metadata": {
    "collapsed": false,
    "pycharm": {
     "name": "#%%\n"
    }
   },
   "outputs": [],
   "source": [
    "# опциональная загрузка данных разных измерений\n",
    "N = 0 # номер измерения\n",
    "stride = 3\n",
    "x = df.iloc[:, stride*N+1].dropna()\n",
    "y = df.iloc[:, stride*N+0].dropna()\n",
    "xerr = np.ones_like(x)*0.1\n",
    "yerr = np.ones_like(x)*1\n",
    "label = df.iloc[:, stride*N+stride-2].name    # если он есть, его надо добавить в label errorbar'а\n",
    "xname, xunit = x.name.split(', ')\n",
    "yname, yunit = y.name.split(', ')"
   ]
  },
  {
   "cell_type": "code",
   "execution_count": null,
   "metadata": {},
   "outputs": [],
   "source": [
    "plt.gca().set_xscale('log')"
   ]
  }
 ],
 "metadata": {
  "kernelspec": {
   "display_name": "Python 3.10.6 ('LabaEnv')",
   "language": "python",
   "name": "python3"
  },
  "language_info": {
   "codemirror_mode": {
    "name": "ipython",
    "version": 3
   },
   "file_extension": ".py",
   "mimetype": "text/x-python",
   "name": "python",
   "nbconvert_exporter": "python",
   "pygments_lexer": "ipython3",
   "version": "3.10.6"
  },
  "orig_nbformat": 4,
  "vscode": {
   "interpreter": {
    "hash": "dcc6a0e845294ed938c28a85a8320cedeab09b4e8f97de360feb405e70a42c71"
   }
  }
 },
 "nbformat": 4,
 "nbformat_minor": 2
}

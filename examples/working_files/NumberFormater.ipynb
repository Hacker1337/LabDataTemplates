{
 "cells": [
  {
   "cell_type": "code",
   "execution_count": 3,
   "metadata": {
    "collapsed": true
   },
   "outputs": [],
   "source": [
    "import numpy as np"
   ]
  },
  {
   "cell_type": "code",
   "execution_count": 13,
   "metadata": {
    "collapsed": false,
    "pycharm": {
     "name": "#%%\n"
    }
   },
   "outputs": [],
   "source": [
    "def my_format(value, error):\n",
    "    first_digit = (np.array(error/10**np.floor(np.log10(error)), dtype=\"int\"))\n",
    "    first_digit_position = np.array(np.floor(np.log10(error)), dtype=\"int\")\n",
    "    ndigits = 1\n",
    "    if first_digit == 1:\n",
    "        ndigits += 1\n",
    "    power = np.log10(abs(value))\n",
    "    if abs(power//3) >= 1:\n",
    "        power = 3*int(power//3)\n",
    "        value /= 10**power\n",
    "        error /= 10**power\n",
    "        digit_number = -first_digit_position + ndigits+power-1\n",
    "        if digit_number <= 0:\n",
    "            return f\"({round(int(value), digit_number)} \\u00B1 {round(int(error), digit_number)})$\\cdot 10^{{{power}}}$\"\n",
    "        return f\"({round(value, digit_number)} \\u00B1 {round(error, digit_number)})$\\cdot 10^{{{power}}}$\"\n",
    "    digit_number = -first_digit_position + ndigits-1\n",
    "    if digit_number <= 0:\n",
    "        return f\"{round(int(value), digit_number)} \\u00B1 {round(int(error), digit_number)}\"\n",
    "    return f\"{round(value, digit_number)} \\u00B1 {round(error, digit_number)}\"\n"
   ]
  },
  {
   "cell_type": "code",
   "execution_count": 14,
   "metadata": {
    "collapsed": false,
    "pycharm": {
     "name": "#%%\n"
    }
   },
   "outputs": [
    {
     "name": "stdout",
     "output_type": "stream",
     "text": [
      "From 944500.3624736844 +- 1124.9582622357702\n",
      " formatted to (944.5 ± 1.1)$\\cdot 10^{3}$\n",
      "From 98698.00886970565 +- 880.3224998048526\n",
      " formatted to (98.7 ± 0.9)$\\cdot 10^{3}$\n",
      "From 615214.0594708876 +- 2106.831716143581\n",
      " formatted to (615 ± 2)$\\cdot 10^{3}$\n",
      "From 915064.2401409234 +- 7277.897799966957\n",
      " formatted to (915 ± 7)$\\cdot 10^{3}$\n",
      "From 86589.74561518356 +- 292.49245262829015\n",
      " formatted to (86.6 ± 0.3)$\\cdot 10^{3}$\n",
      "From 771928.6716039926 +- 5266.779598736985\n",
      " formatted to (771 ± 5)$\\cdot 10^{3}$\n",
      "From 30617.61967837734 +- 204.40329564780745\n",
      " formatted to (30.6 ± 0.2)$\\cdot 10^{3}$\n",
      "From 855357.360785606 +- 1869.8005276191366\n",
      " formatted to (855.4 ± 1.9)$\\cdot 10^{3}$\n",
      "From 371759.3149349006 +- 1520.3769022706883\n",
      " formatted to (371.8 ± 1.5)$\\cdot 10^{3}$\n",
      "From 451831.7123345886 +- 1763.7783464259692\n",
      " formatted to (451.8 ± 1.8)$\\cdot 10^{3}$\n"
     ]
    }
   ],
   "source": [
    "# Testing\n",
    "n = 10\n",
    "val = np.random.random(n)*1000000+0.01\n",
    "err = val*(np.random.random(n)*0.01+0.0004)\n",
    "# val, err\n",
    "for v, r in zip(val, err):\n",
    "    # print(r, end=\"\\t\")\n",
    "    # print(np.log10(r), end='\\t')\n",
    "    # # print(\"first digit is\", (np.array(r/10**np.floor(np.log10(r)), dtype=\"int\")), end='\\t')\n",
    "    # first_digit = (np.array(r/10**np.floor(np.log10(r)), dtype=\"int\"))\n",
    "    # first_digit_position = np.array(np.floor(np.log10(r)), dtype=\"int\")\n",
    "    # print(first_digit_position, end=\"\\t\")\n",
    "    # ndigits = 1\n",
    "    # if first_digit == 1:\n",
    "    #     ndigits += 1\n",
    "    # print(round(r, -first_digit_position + ndigits-1), end='\\t')\n",
    "    # print()\n",
    "    tup = my_format(v, r)\n",
    "    print(f\"From {v} +- {r}\\n formatted to {my_format(v, r)}\")"
   ]
  },
  {
   "cell_type": "code",
   "execution_count": 15,
   "metadata": {},
   "outputs": [
    {
     "data": {
      "text/plain": [
       "'(200 ± 1500)$\\\\cdot 10^{-6}$'"
      ]
     },
     "execution_count": 15,
     "metadata": {},
     "output_type": "execute_result"
    }
   ],
   "source": [
    "my_format(0.00017003125886471088, 0.0014511595057770123)"
   ]
  },
  {
   "cell_type": "code",
   "execution_count": 107,
   "metadata": {
    "collapsed": false,
    "pycharm": {
     "name": "#%%\n"
    }
   },
   "outputs": [
    {
     "name": "stdout",
     "output_type": "stream",
     "text": [
      "0.134535\n"
     ]
    },
    {
     "data": {
      "text/plain": [
       "'1.22312e+08'"
      ]
     },
     "execution_count": 107,
     "metadata": {},
     "output_type": "execute_result"
    }
   ],
   "source": [
    "print(format(0.1345345323, '1g'))\n",
    "\"{:3g}\".format(122312341.1345345323)\n",
    "# '{:G}'.format(-123456789.8765)"
   ]
  },
  {
   "cell_type": "code",
   "execution_count": 108,
   "metadata": {
    "collapsed": false,
    "pycharm": {
     "name": "#%%\n"
    }
   },
   "outputs": [
    {
     "data": {
      "text/plain": [
       "123.23"
      ]
     },
     "execution_count": 108,
     "metadata": {},
     "output_type": "execute_result"
    }
   ],
   "source": [
    "round(123.231231231, 2)"
   ]
  }
 ],
 "metadata": {
  "interpreter": {
   "hash": "f13c76062b5ab76b0b52594f7dbe21ab440ed31528d2730582c256d0012694e0"
  },
  "kernelspec": {
   "display_name": "Python 3.8.10 64-bit ('venvPhysLaba': venv)",
   "name": "python3"
  },
  "language_info": {
   "codemirror_mode": {
    "name": "ipython",
    "version": 3
   },
   "file_extension": ".py",
   "mimetype": "text/x-python",
   "name": "python",
   "nbconvert_exporter": "python",
   "pygments_lexer": "ipython3",
   "version": "3.8.10"
  }
 },
 "nbformat": 4,
 "nbformat_minor": 0
}

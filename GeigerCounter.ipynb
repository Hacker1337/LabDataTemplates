{
 "cells": [
  {
   "cell_type": "code",
   "execution_count": 1,
   "metadata": {
    "collapsed": true
   },
   "outputs": [],
   "source": [
    "import numpy as np\n",
    "import matplotlib.pyplot as plt\n",
    "from scipy.optimize import optimize"
   ]
  },
  {
   "cell_type": "code",
   "execution_count": 13,
   "outputs": [],
   "source": [
    "numbers40 = np.array('''51\n",
    "47\n",
    "61\n",
    "48\n",
    "60\n",
    "48\n",
    "49\n",
    "59\n",
    "48\n",
    "45\n",
    "55\n",
    "57\n",
    "47\n",
    "42\n",
    "48\n",
    "50\n",
    "40\n",
    "48\n",
    "54\n",
    "55\n",
    "48\n",
    "62\n",
    "48\n",
    "43\n",
    "42\n",
    "44\n",
    "64\n",
    "58\n",
    "52\n",
    "45\n",
    "40\n",
    "50\n",
    "52\n",
    "54\n",
    "52\n",
    "45\n",
    "53\n",
    "51\n",
    "48\n",
    "62\n",
    "47\n",
    "42\n",
    "62\n",
    "52\n",
    "47\n",
    "55\n",
    "55\n",
    "56\n",
    "37\n",
    "54\n",
    "46\n",
    "44\n",
    "54\n",
    "39\n",
    "44\n",
    "49\n",
    "43\n",
    "50\n",
    "42\n",
    "48\n",
    "52\n",
    "52\n",
    "44\n",
    "50\n",
    "45\n",
    "49\n",
    "55\n",
    "48\n",
    "47\n",
    "46\n",
    "47\n",
    "56\n",
    "45\n",
    "52\n",
    "59\n",
    "48\n",
    "42\n",
    "56\n",
    "41\n",
    "59\n",
    "48\n",
    "62\n",
    "59\n",
    "57\n",
    "59\n",
    "50\n",
    "40\n",
    "41\n",
    "48\n",
    "57\n",
    "53\n",
    "57\n",
    "48\n",
    "52\n",
    "54\n",
    "50'''.split(), dtype='int64')"
   ],
   "metadata": {
    "collapsed": false,
    "pycharm": {
     "name": "#%%\n"
    }
   }
  },
  {
   "cell_type": "code",
   "execution_count": 9,
   "outputs": [
    {
     "data": {
      "text/plain": "(array([ 2, 10, 11,  8, 23, 12, 10,  8,  7,  5], dtype=int64),\n array([37. , 39.7, 42.4, 45.1, 47.8, 50.5, 53.2, 55.9, 58.6, 61.3, 64. ]))"
     },
     "execution_count": 9,
     "metadata": {},
     "output_type": "execute_result"
    }
   ],
   "source": [
    "hist40 = np.histogram(numbers40)\n",
    "hist40"
   ],
   "metadata": {
    "collapsed": false,
    "pycharm": {
     "name": "#%%\n"
    }
   }
  },
  {
   "cell_type": "code",
   "execution_count": 22,
   "outputs": [
    {
     "data": {
      "text/plain": "[array([ 4,  5,  6,  7,  8,  9, 10, 11, 12, 13, 14, 15, 16, 17, 18, 19, 20,\n        21, 22, 29]),\n array([ 1,  5,  1, 11, 21, 35, 46, 34, 48, 34, 47, 36, 21, 17, 12,  6,  3,\n         7,  2,  1])]"
     },
     "execution_count": 22,
     "metadata": {},
     "output_type": "execute_result"
    }
   ],
   "source": [
    "s = '''4\t5\t6\t7\t8\t9\t10\t11\t12\t13\t14\t15\t16\t17\t18\t19\t20\t21\t22\t29\n",
    "1\t5\t1\t11\t21\t35\t46\t34\t48\t34\t47\t36\t21\t17\t12\t6\t3\t7\t2\t1'''\n",
    "hist10 = [np.array(x.split(), dtype=int) for x in s.split('\\n')]\n",
    "hist10"
   ],
   "metadata": {
    "collapsed": false,
    "pycharm": {
     "name": "#%%\n"
    }
   }
  },
  {
   "cell_type": "code",
   "execution_count": 23,
   "outputs": [],
   "source": [
    "numbers10 = []\n",
    "for i in range(len(hist10[0])):\n",
    "    for j in range(hist10[1][i]):\n",
    "        numbers10.append(hist10[0][i])"
   ],
   "metadata": {
    "collapsed": false,
    "pycharm": {
     "name": "#%%\n"
    }
   }
  },
  {
   "cell_type": "code",
   "execution_count": 24,
   "outputs": [
    {
     "data": {
      "text/plain": "388"
     },
     "execution_count": 24,
     "metadata": {},
     "output_type": "execute_result"
    }
   ],
   "source": [
    "len(numbers10)"
   ],
   "metadata": {
    "collapsed": false,
    "pycharm": {
     "name": "#%%\n"
    }
   }
  },
  {
   "cell_type": "code",
   "execution_count": 34,
   "outputs": [],
   "source": [
    "numbers10 = np.array(numbers10, dtype=float)\n",
    "numbers10/= 10\n",
    "numbers40 = np.array(numbers40, dtype=float)\n",
    "numbers40/= 40"
   ],
   "metadata": {
    "collapsed": false,
    "pycharm": {
     "name": "#%%\n"
    }
   }
  },
  {
   "cell_type": "code",
   "execution_count": null,
   "outputs": [],
   "source": [],
   "metadata": {
    "collapsed": false,
    "pycharm": {
     "name": "#%%\n"
    }
   }
  },
  {
   "cell_type": "code",
   "execution_count": 79,
   "outputs": [
    {
     "data": {
      "text/plain": "(array([0.0257732 , 0.15463918, 0.28350515, 0.        , 0.54123711,\n        0.90206186, 1.18556701, 2.11340206, 0.        , 0.87628866,\n        1.21134021, 0.92783505, 0.97938144, 0.30927835, 0.        ,\n        0.15463918, 0.07731959, 0.18041237, 0.05154639, 0.        ,\n        0.        , 0.        , 0.        , 0.        , 0.0257732 ]),\n array([0.4, 0.5, 0.6, 0.7, 0.8, 0.9, 1. , 1.1, 1.2, 1.3, 1.4, 1.5, 1.6,\n        1.7, 1.8, 1.9, 2. , 2.1, 2.2, 2.3, 2.4, 2.5, 2.6, 2.7, 2.8, 2.9]))"
     },
     "execution_count": 79,
     "metadata": {},
     "output_type": "execute_result"
    }
   ],
   "source": [
    "n = 11\n",
    "hist40 = np.histogram(numbers40, bins=int((numbers40.max()-numbers40.min())*40), density=True)\n",
    "hist10 = np.histogram(numbers10, bins=int((numbers10.max()-numbers10.min())*10), density=True)\n",
    "hist40\n",
    "hist10\n"
   ],
   "metadata": {
    "collapsed": false,
    "pycharm": {
     "name": "#%%\n"
    }
   }
  },
  {
   "cell_type": "code",
   "execution_count": 80,
   "outputs": [
    {
     "data": {
      "text/plain": "<matplotlib.legend.Legend at 0x1c3ae63c430>"
     },
     "execution_count": 80,
     "metadata": {},
     "output_type": "execute_result"
    },
    {
     "data": {
      "text/plain": "<Figure size 648x864 with 1 Axes>",
      "image/png": "[encoded data removed]"
     },
     "metadata": {
      "needs_background": "light"
     },
     "output_type": "display_data"
    }
   ],
   "source": [
    "plt.figure(figsize=(9, 12))\n",
    "plt.bar(hist40[1][:-1], hist40[0], width=hist40[1][1]-hist40[1][0], label='40 секундные серии')\n",
    "plt.bar(hist10[1][:-1], hist10[0], width=hist10[1][1]-hist10[1][0], label='10 секундные серии')\n",
    "plt.legend()"
   ],
   "metadata": {
    "collapsed": false,
    "pycharm": {
     "name": "#%%\n"
    }
   }
  },
  {
   "cell_type": "code",
   "execution_count": 68,
   "outputs": [
    {
     "data": {
      "text/plain": "<matplotlib.legend.Legend at 0x1c3aea1eb50>"
     },
     "execution_count": 68,
     "metadata": {},
     "output_type": "execute_result"
    },
    {
     "data": {
      "text/plain": "<Figure size 648x864 with 1 Axes>",
      "image/png": "[encoded data removed]"
     },
     "metadata": {
      "needs_background": "light"
     },
     "output_type": "display_data"
    }
   ],
   "source": [
    "plt.figure(figsize=(9, 12))\n",
    "plt.plot(hist40[1][:-1], hist40[0], 'o', label='40 секундные серии')\n",
    "plt.plot(hist10[1][:-1], hist10[0], 'o', label='10 секундные серии')\n",
    "plt.legend()"
   ],
   "metadata": {
    "collapsed": false,
    "pycharm": {
     "name": "#%%\n"
    }
   }
  },
  {
   "cell_type": "code",
   "execution_count": 83,
   "outputs": [],
   "source": [
    "# print(*numbers40, sep='\\n')"
   ],
   "metadata": {
    "collapsed": false,
    "pycharm": {
     "name": "#%%\n"
    }
   }
  },
  {
   "cell_type": "code",
   "execution_count": 84,
   "outputs": [],
   "source": [
    "mean = np.mean(numbers10)"
   ],
   "metadata": {
    "collapsed": false,
    "pycharm": {
     "name": "#%%\n"
    }
   }
  },
  {
   "cell_type": "code",
   "execution_count": 85,
   "outputs": [
    {
     "name": "stdout",
     "output_type": "stream",
     "text": [
      "0.023458591037326393\n",
      "0.023458591037325727\n",
      "1.2549479166666668\n"
     ]
    }
   ],
   "source": [
    "print(np.mean(np.square(numbers40-np.mean(numbers40))))\n",
    "print(np.mean(np.square(numbers40)) - np.mean(numbers40)**2)\n",
    "print(np.mean(numbers40))\n"
   ],
   "metadata": {
    "collapsed": false,
    "pycharm": {
     "name": "#%%\n"
    }
   }
  }
 ],
 "metadata": {
  "kernelspec": {
   "display_name": "Python 3",
   "language": "python",
   "name": "python3"
  },
  "language_info": {
   "codemirror_mode": {
    "name": "ipython",
    "version": 2
   },
   "file_extension": ".py",
   "mimetype": "text/x-python",
   "name": "python",
   "nbconvert_exporter": "python",
   "pygments_lexer": "ipython2",
   "version": "2.7.6"
  }
 },
 "nbformat": 4,
 "nbformat_minor": 0
}
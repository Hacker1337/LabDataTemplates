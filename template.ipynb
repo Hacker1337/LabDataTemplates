{
 "cells": [
  {
   "cell_type": "code",
   "execution_count": null,
   "metadata": {
    "collapsed": true
   },
   "outputs": [],
   "source": [
    "import numpy as np\n",
    "import matplotlib.pyplot as plt\n",
    "from scipy.optimize import optimize\n",
    "import pandas as pd\n",
    "i = 0\n",
    "#switching latex fonts\n",
    "# plt.rcParams.update({\n",
    "#     \"text.usetex\": True,\n",
    "#     \"font.family\": \"sans-serif\",\n",
    "#     \"font.sans-serif\": [\"Helvetica\"]})\n",
    "# plt.rcParams.update({\n",
    "#     \"text.usetex\": False,\n",
    "#     \"font.family\": 'fantasy',\n",
    "#     \"font.fantasy\": ['Arial', 'Times New Roman', 'Tahoma']})\n"
   ]
  },
  {
   "cell_type": "code",
   "execution_count": null,
   "outputs": [],
   "source": [
    "x = np.array([\n",
    "256.0,361.0,484.0,625.0,784.0,961.0,1156.0,1521.0,1764.0,2025.0,2304.0,169.0\n",
    "])\n",
    "y = np.array([\n",
    "40.474485,44.28800000000001,48.672000000000004,53.59786801199999,59.56816728,66.195521388,73.25249903999999,86.71392784400001,95.503225823,105.05186009,115.60976497600001,36.62553387599999\n",
    "])\n",
    "xerr = np.array([\n",
    "32.0,38.0,44.0,50.0,56.0,62.0,68.0,78.0,84.0,90.0,96.0,26.0\n",
    "])\n",
    "yerr = np.array([\n",
    "3.2584050000000007,3.113600000000001,3.0576000000000003,3.05875596,3.1154905600000005,3.2047047600000003,3.3160478399999995,3.5470028900000004,3.70314741,3.8748144900000008,4.058298240000001,3.569614409999999\n",
    "])\n"
   ],
   "metadata": {
    "collapsed": false,
    "pycharm": {
     "name": "#%%\n"
    }
   }
  },
  {
   "cell_type": "code",
   "execution_count": null,
   "outputs": [],
   "source": [
    "#simple visualization\n",
    "plt.figure(figsize=(8, 6))\n",
    "plt.plot(x, y, 'o', label=\"experimental data\")\n",
    "plt.grid(True)\n",
    "plt.xlabel(r\"$x$\")\n",
    "plt.ylabel(r\"$y$\")\n",
    "plt.title(r\"$y(x)$\")\n",
    "\n",
    "plt.legend()\n",
    "\n",
    "plt.savefig(f\"viz{i}.png\", dpi=200)\n",
    "i+=1"
   ],
   "metadata": {
    "collapsed": false,
    "pycharm": {
     "name": "#%%\n"
    }
   }
  },
  {
   "cell_type": "code",
   "execution_count": null,
   "outputs": [],
   "source": [
    "#simple approximation without data errors\n",
    "\n",
    "def err_pres_formatter(value, error):\n",
    "    \"\"\"Rounds value and it's error according to scientific conventions\"\"\"\n",
    "    first_digit = (np.array(error/10**np.floor(np.log10(error)), dtype=\"int\"))\n",
    "    first_digit_position = np.array(np.floor(np.log10(error)), dtype=\"int\")\n",
    "    ndigits = 1\n",
    "    if first_digit == 1:\n",
    "        ndigits += 1\n",
    "    return round(value, -first_digit_position + ndigits-1), round(error, -first_digit_position + ndigits-1)\n",
    "\n",
    "# function to approximate\n",
    "def f(x, k, b):\n",
    "    return b + k * x\n",
    "\n",
    "from scipy.optimize import curve_fit\n",
    "popt, pcov = curve_fit(f, x, y)\n",
    "err = np.sqrt(np.diag(pcov))\n",
    "for v, er in zip(popt, err):\n",
    "    print(v, er)\n",
    "\n",
    "plt.figure(figsize=(8, 6))\n",
    "plt.errorbar(x, y, fmt=\"o\", xerr=xerr, yerr=yerr, label=\"экспериментальные данный\", capsize=4, ms=6)\n",
    "X = np.linspace(x.min(), x.max(), num=50)\n",
    "plt.plot(X, f(X, *popt), 'r', label=\n",
    "\"аппроксимация с параметром\\n k = {} $\\pm$ {}\".format(*err_pres_formatter(popt[0], err[0])))\n",
    "\n",
    "plt.grid(True)\n",
    "plt.xlabel(r\"$x$, см\")\n",
    "plt.ylabel(r\"$y$, кг\")\n",
    "plt.title(r\"$y(x)$\")\n",
    "plt.legend()\n",
    "\n",
    "plt.savefig(f\"opt{i}.png\", dpi=200)\n",
    "i+=1"
   ],
   "metadata": {
    "collapsed": false,
    "pycharm": {
     "name": "#%%\n"
    }
   }
  },
  {
   "cell_type": "code",
   "execution_count": null,
   "outputs": [],
   "source": [
    "#xi square approximation with Y-errors\n",
    "\n",
    "def err_pres_formatter(value, error):\n",
    "    \"\"\"Rounds value and it's error according to scientific conventions\"\"\"\n",
    "    first_digit = (np.array(error/10**np.floor(np.log10(error)), dtype=\"int\"))\n",
    "    first_digit_position = np.array(np.floor(np.log10(error)), dtype=\"int\")\n",
    "    ndigits = 1\n",
    "    if first_digit == 1:\n",
    "        ndigits += 1\n",
    "    return round(value, -first_digit_position + ndigits-1), round(error, -first_digit_position + ndigits-1)\n",
    "\n",
    "# function to approximate\n",
    "def f(x, k, b):\n",
    "    return b + k * x\n",
    "\n",
    "from scipy.optimize import curve_fit\n",
    "popt, pcov = curve_fit(f, x, y, sigma=yerr, absolute_sigma=True)\n",
    "err = np.sqrt(np.diag(pcov))\n",
    "for v, er in zip(popt, err):\n",
    "    print(v,'+-',er)\n",
    "\n",
    "plt.figure(figsize=(8, 6))\n",
    "plt.errorbar(x, y, fmt=\"o\", xerr=xerr, yerr=yerr, label=\"экспериментальные данный\", capsize=4, ms=6)\n",
    "X = np.linspace(x.min(), x.max(), num=50)\n",
    "plt.plot(X, f(X, *popt), 'r', label=\n",
    "\"аппроксимация с параметром\\n k = {} $\\pm$ {}\".format(*err_pres_formatter(popt[0], err[0])))\n",
    "\n",
    "plt.grid(True)\n",
    "plt.xlabel(r\"$x$, см\")\n",
    "plt.ylabel(r\"$y$, кг\")\n",
    "plt.title(r\"$y(x)$\")\n",
    "plt.legend()\n",
    "\n",
    "plt.savefig(f\"opt{i}.png\", dpi=200)\n",
    "i+=1"
   ],
   "metadata": {
    "collapsed": false,
    "pycharm": {
     "name": "#%%\n"
    }
   }
  }
 ],
 "metadata": {
  "kernelspec": {
   "display_name": "Python 3",
   "language": "python",
   "name": "python3"
  },
  "language_info": {
   "codemirror_mode": {
    "name": "ipython",
    "version": 2
   },
   "file_extension": ".py",
   "mimetype": "text/x-python",
   "name": "python",
   "nbconvert_exporter": "python",
   "pygments_lexer": "ipython2",
   "version": "2.7.6"
  }
 },
 "nbformat": 4,
 "nbformat_minor": 0
}